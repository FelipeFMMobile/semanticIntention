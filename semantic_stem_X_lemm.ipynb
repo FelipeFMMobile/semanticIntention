{
 "cells": [
  {
   "cell_type": "markdown",
   "id": "590672da-41ac-4d86-a889-7e5d0f8f74ee",
   "metadata": {},
   "source": [
    "# Classificador de Intenções\n",
    "Pré processamento de textos - comparação entre Stemming X Lemmatization\n"
   ]
  },
  {
   "cell_type": "code",
   "execution_count": 18,
   "id": "086e03d8-f5a0-4293-a585-d7cd209e23f9",
   "metadata": {},
   "outputs": [],
   "source": [
    "\n",
    "import pandas as pd\n",
    "import numpy as np\n",
    "\n",
    "from tensorflow.keras.models import Sequential\n",
    "from tensorflow.keras.layers import Embedding, Bidirectional, LSTM, Dropout, Dense\n",
    "from tensorflow.keras.preprocessing.text import Tokenizer\n",
    "from tensorflow.keras.preprocessing.sequence import pad_sequences\n",
    "from sklearn.model_selection import train_test_split\n",
    "from sklearn.preprocessing import LabelEncoder\n",
    "from sklearn.utils.class_weight import compute_class_weight"
   ]
  },
  {
   "cell_type": "code",
   "execution_count": 19,
   "id": "9a34734d-ac11-43ef-aae1-7d3b12fbeed2",
   "metadata": {},
   "outputs": [
    {
     "data": {
      "text/html": [
       "<div>\n",
       "<style scoped>\n",
       "    .dataframe tbody tr th:only-of-type {\n",
       "        vertical-align: middle;\n",
       "    }\n",
       "\n",
       "    .dataframe tbody tr th {\n",
       "        vertical-align: top;\n",
       "    }\n",
       "\n",
       "    .dataframe thead th {\n",
       "        text-align: right;\n",
       "    }\n",
       "</style>\n",
       "<table border=\"1\" class=\"dataframe\">\n",
       "  <thead>\n",
       "    <tr style=\"text-align: right;\">\n",
       "      <th></th>\n",
       "      <th>texto</th>\n",
       "      <th>classe</th>\n",
       "    </tr>\n",
       "  </thead>\n",
       "  <tbody>\n",
       "    <tr>\n",
       "      <th>0</th>\n",
       "      <td>Cobrar o valor total de R$ 2338</td>\n",
       "      <td>Cobrança</td>\n",
       "    </tr>\n",
       "    <tr>\n",
       "      <th>1</th>\n",
       "      <td>Cobrar a quantia de R$ 4137 referente ao serviço</td>\n",
       "      <td>Cobrança</td>\n",
       "    </tr>\n",
       "    <tr>\n",
       "      <th>2</th>\n",
       "      <td>Gerar cobrança automática de R$ 4088</td>\n",
       "      <td>Cobrança</td>\n",
       "    </tr>\n",
       "    <tr>\n",
       "      <th>3</th>\n",
       "      <td>Passe a fatura de R$ 1724 no cartão</td>\n",
       "      <td>Cobrança</td>\n",
       "    </tr>\n",
       "    <tr>\n",
       "      <th>4</th>\n",
       "      <td>Cobrar taxa de R$ 2370,77 pela entrega</td>\n",
       "      <td>Cobrança</td>\n",
       "    </tr>\n",
       "  </tbody>\n",
       "</table>\n",
       "</div>"
      ],
      "text/plain": [
       "                                              texto    classe\n",
       "0                   Cobrar o valor total de R$ 2338  Cobrança\n",
       "1  Cobrar a quantia de R$ 4137 referente ao serviço  Cobrança\n",
       "2              Gerar cobrança automática de R$ 4088  Cobrança\n",
       "3               Passe a fatura de R$ 1724 no cartão  Cobrança\n",
       "4            Cobrar taxa de R$ 2370,77 pela entrega  Cobrança"
      ]
     },
     "execution_count": 19,
     "metadata": {},
     "output_type": "execute_result"
    }
   ],
   "source": [
    "# ===== Dataset sintético =====\n",
    "\n",
    "df = pd.read_csv('dataset_bancario.csv')\n",
    "df.rename(columns={\"frase\": \"texto\", \"label\": \"classe\"}, inplace=True)\n",
    "df.head()\n"
   ]
  },
  {
   "cell_type": "code",
   "execution_count": 20,
   "id": "5f309194-aee3-4385-bae7-b11d442164ff",
   "metadata": {},
   "outputs": [
    {
     "data": {
      "text/html": [
       "<div>\n",
       "<style scoped>\n",
       "    .dataframe tbody tr th:only-of-type {\n",
       "        vertical-align: middle;\n",
       "    }\n",
       "\n",
       "    .dataframe tbody tr th {\n",
       "        vertical-align: top;\n",
       "    }\n",
       "\n",
       "    .dataframe thead th {\n",
       "        text-align: right;\n",
       "    }\n",
       "</style>\n",
       "<table border=\"1\" class=\"dataframe\">\n",
       "  <thead>\n",
       "    <tr style=\"text-align: right;\">\n",
       "      <th></th>\n",
       "      <th>texto</th>\n",
       "      <th>classe</th>\n",
       "      <th>label</th>\n",
       "    </tr>\n",
       "  </thead>\n",
       "  <tbody>\n",
       "    <tr>\n",
       "      <th>0</th>\n",
       "      <td>Cobrar o valor total de R$ 2338</td>\n",
       "      <td>Cobrança</td>\n",
       "      <td>0</td>\n",
       "    </tr>\n",
       "    <tr>\n",
       "      <th>1</th>\n",
       "      <td>Cobrar a quantia de R$ 4137 referente ao serviço</td>\n",
       "      <td>Cobrança</td>\n",
       "      <td>0</td>\n",
       "    </tr>\n",
       "    <tr>\n",
       "      <th>2</th>\n",
       "      <td>Gerar cobrança automática de R$ 4088</td>\n",
       "      <td>Cobrança</td>\n",
       "      <td>0</td>\n",
       "    </tr>\n",
       "    <tr>\n",
       "      <th>3</th>\n",
       "      <td>Passe a fatura de R$ 1724 no cartão</td>\n",
       "      <td>Cobrança</td>\n",
       "      <td>0</td>\n",
       "    </tr>\n",
       "    <tr>\n",
       "      <th>4</th>\n",
       "      <td>Cobrar taxa de R$ 2370,77 pela entrega</td>\n",
       "      <td>Cobrança</td>\n",
       "      <td>0</td>\n",
       "    </tr>\n",
       "  </tbody>\n",
       "</table>\n",
       "</div>"
      ],
      "text/plain": [
       "                                              texto    classe  label\n",
       "0                   Cobrar o valor total de R$ 2338  Cobrança      0\n",
       "1  Cobrar a quantia de R$ 4137 referente ao serviço  Cobrança      0\n",
       "2              Gerar cobrança automática de R$ 4088  Cobrança      0\n",
       "3               Passe a fatura de R$ 1724 no cartão  Cobrança      0\n",
       "4            Cobrar taxa de R$ 2370,77 pela entrega  Cobrança      0"
      ]
     },
     "execution_count": 20,
     "metadata": {},
     "output_type": "execute_result"
    }
   ],
   "source": [
    "# Codificação das labels\n",
    "label_encoder = LabelEncoder()\n",
    "df[\"label\"] = label_encoder.fit_transform(df[\"classe\"])\n",
    "df.head()"
   ]
  },
  {
   "cell_type": "markdown",
   "id": "d96e9914-c2a8-40ba-95de-a4bc92fa134b",
   "metadata": {},
   "source": [
    "## Stemming\n",
    " - Mac Morpho\n",
    " - Stemmatização\n"
   ]
  },
  {
   "cell_type": "code",
   "execution_count": 21,
   "id": "c8df9e63-8137-4e75-8238-910240ec21b5",
   "metadata": {},
   "outputs": [
    {
     "name": "stderr",
     "output_type": "stream",
     "text": [
      "[nltk_data] Downloading package rslp to\n",
      "[nltk_data]     /Users/felipemenezes/nltk_data...\n",
      "[nltk_data]   Package rslp is already up-to-date!\n",
      "[nltk_data] Downloading package mac_morpho to\n",
      "[nltk_data]     /Users/felipemenezes/nltk_data...\n",
      "[nltk_data]   Package mac_morpho is already up-to-date!\n",
      "[nltk_data] Downloading package stopwords to\n",
      "[nltk_data]     /Users/felipemenezes/nltk_data...\n",
      "[nltk_data]   Package stopwords is already up-to-date!\n"
     ]
    },
    {
     "name": "stdout",
     "output_type": "stream",
     "text": [
      "[[('Jersei', 'N'), ('atinge', 'V'), ('média', 'N'), ('de', 'PREP'), ('Cr$', 'CUR'), ('1,4', 'NUM'), ('milhão', 'N'), ('em', 'PREP|+'), ('a', 'ART'), ('venda', 'N'), ('de', 'PREP|+'), ('a', 'ART'), ('Pinhal', 'NPROP'), ('em', 'PREP'), ('São', 'NPROP'), ('Paulo', 'NPROP')], [('Programe', 'V'), ('sua', 'PROADJ'), ('viagem', 'N'), ('a', 'PREP|+'), ('a', 'ART'), ('Exposição', 'NPROP'), ('Nacional', 'NPROP'), ('do', 'NPROP'), ('Zebu', 'NPROP'), (',', ','), ('que', 'PRO-KS-REL'), ('começa', 'V'), ('dia', 'N'), ('25', 'N|AP')], ...]\n"
     ]
    }
   ],
   "source": [
    "import nltk\n",
    "import spacy\n",
    "from nltk.tokenize import word_tokenize\n",
    "from nltk import pos_tag\n",
    "from nltk.corpus import stopwords\n",
    "from collections import defaultdict\n",
    "from nltk.corpus import wordnet as wn\n",
    "\n",
    "from nltk.corpus import mac_morpho\n",
    "from nltk.stem import RSLPStemmer\n",
    "\n",
    "\n",
    "nltk.download('rslp')\n",
    "nltk.download('mac_morpho')\n",
    "nltk.download('stopwords')\n",
    "\n",
    "\n",
    "# Treinando um tagger simples com mac_morpho\n",
    "train_data = mac_morpho.tagged_sents()\n",
    "#print(train_data)\n",
    "tagger = nltk.UnigramTagger(train_data)\n",
    "print(train_data)\n",
    "# StopWords\n",
    "stopwords_pt = set(stopwords.words('portuguese'))\n",
    "\n",
    "stemmer = RSLPStemmer()\n",
    "\n",
    "# to lower case\n",
    "df['texto_tratado'] = df['texto'].str.lower()\n",
    "\n",
    "for index, entry in enumerate(df['texto_tratado']):\n",
    "    tokens = nltk.word_tokenize(entry, language='portuguese') \n",
    "    tagged = tagger.tag(tokens)  \t\n",
    "    #print(tagged)\n",
    "    final_words = []\n",
    "    for word, tag in tagged:\n",
    "        if word not in stopwords_pt and word.isalpha():\n",
    "            final_words.append(stemmer.stem(word))\n",
    "\n",
    "    df.loc[index, 'texto_final_stem'] = ' '.join(final_words)\n"
   ]
  },
  {
   "cell_type": "code",
   "execution_count": 22,
   "id": "5116018f-9961-4507-b578-a4738f3abd82",
   "metadata": {},
   "outputs": [
    {
     "data": {
      "text/html": [
       "<div>\n",
       "<style scoped>\n",
       "    .dataframe tbody tr th:only-of-type {\n",
       "        vertical-align: middle;\n",
       "    }\n",
       "\n",
       "    .dataframe tbody tr th {\n",
       "        vertical-align: top;\n",
       "    }\n",
       "\n",
       "    .dataframe thead th {\n",
       "        text-align: right;\n",
       "    }\n",
       "</style>\n",
       "<table border=\"1\" class=\"dataframe\">\n",
       "  <thead>\n",
       "    <tr style=\"text-align: right;\">\n",
       "      <th></th>\n",
       "      <th>texto</th>\n",
       "      <th>classe</th>\n",
       "      <th>label</th>\n",
       "      <th>texto_tratado</th>\n",
       "      <th>texto_final_stem</th>\n",
       "    </tr>\n",
       "  </thead>\n",
       "  <tbody>\n",
       "    <tr>\n",
       "      <th>360</th>\n",
       "      <td>Agendar revisão do carro</td>\n",
       "      <td>Outro</td>\n",
       "      <td>2</td>\n",
       "      <td>agendar revisão do carro</td>\n",
       "      <td>agend revis carr</td>\n",
       "    </tr>\n",
       "    <tr>\n",
       "      <th>361</th>\n",
       "      <td>Pedir orçamento para reforma</td>\n",
       "      <td>Outro</td>\n",
       "      <td>2</td>\n",
       "      <td>pedir orçamento para reforma</td>\n",
       "      <td>ped orç reform</td>\n",
       "    </tr>\n",
       "    <tr>\n",
       "      <th>362</th>\n",
       "      <td>Agendar ligação para amanhã</td>\n",
       "      <td>Outro</td>\n",
       "      <td>2</td>\n",
       "      <td>agendar ligação para amanhã</td>\n",
       "      <td>agend lig amanhã</td>\n",
       "    </tr>\n",
       "    <tr>\n",
       "      <th>363</th>\n",
       "      <td>Solicitar orçamento de compra</td>\n",
       "      <td>Outro</td>\n",
       "      <td>2</td>\n",
       "      <td>solicitar orçamento de compra</td>\n",
       "      <td>solic orç compr</td>\n",
       "    </tr>\n",
       "    <tr>\n",
       "      <th>364</th>\n",
       "      <td>Anotar lembrete para reunião</td>\n",
       "      <td>Outro</td>\n",
       "      <td>2</td>\n",
       "      <td>anotar lembrete para reunião</td>\n",
       "      <td>anot lembret reun</td>\n",
       "    </tr>\n",
       "  </tbody>\n",
       "</table>\n",
       "</div>"
      ],
      "text/plain": [
       "                             texto classe  label  \\\n",
       "360       Agendar revisão do carro  Outro      2   \n",
       "361   Pedir orçamento para reforma  Outro      2   \n",
       "362    Agendar ligação para amanhã  Outro      2   \n",
       "363  Solicitar orçamento de compra  Outro      2   \n",
       "364   Anotar lembrete para reunião  Outro      2   \n",
       "\n",
       "                     texto_tratado   texto_final_stem  \n",
       "360       agendar revisão do carro   agend revis carr  \n",
       "361   pedir orçamento para reforma     ped orç reform  \n",
       "362    agendar ligação para amanhã   agend lig amanhã  \n",
       "363  solicitar orçamento de compra    solic orç compr  \n",
       "364   anotar lembrete para reunião  anot lembret reun  "
      ]
     },
     "execution_count": 22,
     "metadata": {},
     "output_type": "execute_result"
    }
   ],
   "source": [
    "df[df['label'] == 2].head()"
   ]
  },
  {
   "cell_type": "code",
   "execution_count": 23,
   "id": "4e18301a-b22f-4f87-8d3c-81651ae5673e",
   "metadata": {},
   "outputs": [
    {
     "data": {
      "text/html": [
       "<div>\n",
       "<style scoped>\n",
       "    .dataframe tbody tr th:only-of-type {\n",
       "        vertical-align: middle;\n",
       "    }\n",
       "\n",
       "    .dataframe tbody tr th {\n",
       "        vertical-align: top;\n",
       "    }\n",
       "\n",
       "    .dataframe thead th {\n",
       "        text-align: right;\n",
       "    }\n",
       "</style>\n",
       "<table border=\"1\" class=\"dataframe\">\n",
       "  <thead>\n",
       "    <tr style=\"text-align: right;\">\n",
       "      <th></th>\n",
       "      <th>texto</th>\n",
       "      <th>classe</th>\n",
       "      <th>label</th>\n",
       "      <th>texto_tratado</th>\n",
       "      <th>texto_final_stem</th>\n",
       "    </tr>\n",
       "  </thead>\n",
       "  <tbody>\n",
       "    <tr>\n",
       "      <th>120</th>\n",
       "      <td>Efetuar o pagamento da fatura de R$ 4600,19</td>\n",
       "      <td>Pagamento</td>\n",
       "      <td>3</td>\n",
       "      <td>efetuar o pagamento da fatura de r$ 4600,19</td>\n",
       "      <td>efetu pag fatur r</td>\n",
       "    </tr>\n",
       "    <tr>\n",
       "      <th>121</th>\n",
       "      <td>Transferir R$ 575 para a conta poupança</td>\n",
       "      <td>Pagamento</td>\n",
       "      <td>3</td>\n",
       "      <td>transferir r$ 575 para a conta poupança</td>\n",
       "      <td>transfer r cont poupanç</td>\n",
       "    </tr>\n",
       "    <tr>\n",
       "      <th>122</th>\n",
       "      <td>Pagar a conta de luz no valor de R$ 328,49</td>\n",
       "      <td>Pagamento</td>\n",
       "      <td>3</td>\n",
       "      <td>pagar a conta de luz no valor de r$ 328,49</td>\n",
       "      <td>pag cont luz val r</td>\n",
       "    </tr>\n",
       "    <tr>\n",
       "      <th>123</th>\n",
       "      <td>Transferir R$ 350,79 para a conta poupança</td>\n",
       "      <td>Pagamento</td>\n",
       "      <td>3</td>\n",
       "      <td>transferir r$ 350,79 para a conta poupança</td>\n",
       "      <td>transfer r cont poupanç</td>\n",
       "    </tr>\n",
       "    <tr>\n",
       "      <th>124</th>\n",
       "      <td>Transferir R$ 2644 para a conta poupança</td>\n",
       "      <td>Pagamento</td>\n",
       "      <td>3</td>\n",
       "      <td>transferir r$ 2644 para a conta poupança</td>\n",
       "      <td>transfer r cont poupanç</td>\n",
       "    </tr>\n",
       "  </tbody>\n",
       "</table>\n",
       "</div>"
      ],
      "text/plain": [
       "                                           texto     classe  label  \\\n",
       "120  Efetuar o pagamento da fatura de R$ 4600,19  Pagamento      3   \n",
       "121      Transferir R$ 575 para a conta poupança  Pagamento      3   \n",
       "122   Pagar a conta de luz no valor de R$ 328,49  Pagamento      3   \n",
       "123   Transferir R$ 350,79 para a conta poupança  Pagamento      3   \n",
       "124     Transferir R$ 2644 para a conta poupança  Pagamento      3   \n",
       "\n",
       "                                   texto_tratado         texto_final_stem  \n",
       "120  efetuar o pagamento da fatura de r$ 4600,19        efetu pag fatur r  \n",
       "121      transferir r$ 575 para a conta poupança  transfer r cont poupanç  \n",
       "122   pagar a conta de luz no valor de r$ 328,49       pag cont luz val r  \n",
       "123   transferir r$ 350,79 para a conta poupança  transfer r cont poupanç  \n",
       "124     transferir r$ 2644 para a conta poupança  transfer r cont poupanç  "
      ]
     },
     "execution_count": 23,
     "metadata": {},
     "output_type": "execute_result"
    }
   ],
   "source": [
    "df[df['label'] == 3].head()"
   ]
  },
  {
   "cell_type": "markdown",
   "id": "b8f10839-14aa-481a-950c-1f5a7b224e4c",
   "metadata": {},
   "source": [
    "## Stemming LSTM"
   ]
  },
  {
   "cell_type": "code",
   "execution_count": 24,
   "id": "cf882689-ea6b-4faf-8015-fb2b8c0970ec",
   "metadata": {},
   "outputs": [
    {
     "name": "stderr",
     "output_type": "stream",
     "text": [
      "/Users/felipemenezes/Codes/pythonEnvs/machine/lib/python3.11/site-packages/keras/src/layers/core/embedding.py:90: UserWarning: Argument `input_length` is deprecated. Just remove it.\n",
      "  warnings.warn(\n"
     ]
    },
    {
     "data": {
      "text/html": [
       "<pre style=\"white-space:pre;overflow-x:auto;line-height:normal;font-family:Menlo,'DejaVu Sans Mono',consolas,'Courier New',monospace\"><span style=\"font-weight: bold\">Model: \"sequential_2\"</span>\n",
       "</pre>\n"
      ],
      "text/plain": [
       "\u001b[1mModel: \"sequential_2\"\u001b[0m\n"
      ]
     },
     "metadata": {},
     "output_type": "display_data"
    },
    {
     "data": {
      "text/html": [
       "<pre style=\"white-space:pre;overflow-x:auto;line-height:normal;font-family:Menlo,'DejaVu Sans Mono',consolas,'Courier New',monospace\">┏━━━━━━━━━━━━━━━━━━━━━━━━━━━━━━━━━┳━━━━━━━━━━━━━━━━━━━━━━━━┳━━━━━━━━━━━━━━━┓\n",
       "┃<span style=\"font-weight: bold\"> Layer (type)                    </span>┃<span style=\"font-weight: bold\"> Output Shape           </span>┃<span style=\"font-weight: bold\">       Param # </span>┃\n",
       "┡━━━━━━━━━━━━━━━━━━━━━━━━━━━━━━━━━╇━━━━━━━━━━━━━━━━━━━━━━━━╇━━━━━━━━━━━━━━━┩\n",
       "│ embedding_2 (<span style=\"color: #0087ff; text-decoration-color: #0087ff\">Embedding</span>)         │ (<span style=\"color: #00d7ff; text-decoration-color: #00d7ff\">None</span>, <span style=\"color: #00af00; text-decoration-color: #00af00\">6</span>, <span style=\"color: #00af00; text-decoration-color: #00af00\">40</span>)          │         <span style=\"color: #00af00; text-decoration-color: #00af00\">3,320</span> │\n",
       "├─────────────────────────────────┼────────────────────────┼───────────────┤\n",
       "│ bidirectional_2 (<span style=\"color: #0087ff; text-decoration-color: #0087ff\">Bidirectional</span>) │ (<span style=\"color: #00d7ff; text-decoration-color: #00d7ff\">None</span>, <span style=\"color: #00af00; text-decoration-color: #00af00\">64</span>)             │        <span style=\"color: #00af00; text-decoration-color: #00af00\">18,688</span> │\n",
       "├─────────────────────────────────┼────────────────────────┼───────────────┤\n",
       "│ dropout_2 (<span style=\"color: #0087ff; text-decoration-color: #0087ff\">Dropout</span>)             │ (<span style=\"color: #00d7ff; text-decoration-color: #00d7ff\">None</span>, <span style=\"color: #00af00; text-decoration-color: #00af00\">64</span>)             │             <span style=\"color: #00af00; text-decoration-color: #00af00\">0</span> │\n",
       "├─────────────────────────────────┼────────────────────────┼───────────────┤\n",
       "│ dense_2 (<span style=\"color: #0087ff; text-decoration-color: #0087ff\">Dense</span>)                 │ (<span style=\"color: #00d7ff; text-decoration-color: #00d7ff\">None</span>, <span style=\"color: #00af00; text-decoration-color: #00af00\">4</span>)              │           <span style=\"color: #00af00; text-decoration-color: #00af00\">260</span> │\n",
       "└─────────────────────────────────┴────────────────────────┴───────────────┘\n",
       "</pre>\n"
      ],
      "text/plain": [
       "┏━━━━━━━━━━━━━━━━━━━━━━━━━━━━━━━━━┳━━━━━━━━━━━━━━━━━━━━━━━━┳━━━━━━━━━━━━━━━┓\n",
       "┃\u001b[1m \u001b[0m\u001b[1mLayer (type)                   \u001b[0m\u001b[1m \u001b[0m┃\u001b[1m \u001b[0m\u001b[1mOutput Shape          \u001b[0m\u001b[1m \u001b[0m┃\u001b[1m \u001b[0m\u001b[1m      Param #\u001b[0m\u001b[1m \u001b[0m┃\n",
       "┡━━━━━━━━━━━━━━━━━━━━━━━━━━━━━━━━━╇━━━━━━━━━━━━━━━━━━━━━━━━╇━━━━━━━━━━━━━━━┩\n",
       "│ embedding_2 (\u001b[38;5;33mEmbedding\u001b[0m)         │ (\u001b[38;5;45mNone\u001b[0m, \u001b[38;5;34m6\u001b[0m, \u001b[38;5;34m40\u001b[0m)          │         \u001b[38;5;34m3,320\u001b[0m │\n",
       "├─────────────────────────────────┼────────────────────────┼───────────────┤\n",
       "│ bidirectional_2 (\u001b[38;5;33mBidirectional\u001b[0m) │ (\u001b[38;5;45mNone\u001b[0m, \u001b[38;5;34m64\u001b[0m)             │        \u001b[38;5;34m18,688\u001b[0m │\n",
       "├─────────────────────────────────┼────────────────────────┼───────────────┤\n",
       "│ dropout_2 (\u001b[38;5;33mDropout\u001b[0m)             │ (\u001b[38;5;45mNone\u001b[0m, \u001b[38;5;34m64\u001b[0m)             │             \u001b[38;5;34m0\u001b[0m │\n",
       "├─────────────────────────────────┼────────────────────────┼───────────────┤\n",
       "│ dense_2 (\u001b[38;5;33mDense\u001b[0m)                 │ (\u001b[38;5;45mNone\u001b[0m, \u001b[38;5;34m4\u001b[0m)              │           \u001b[38;5;34m260\u001b[0m │\n",
       "└─────────────────────────────────┴────────────────────────┴───────────────┘\n"
      ]
     },
     "metadata": {},
     "output_type": "display_data"
    },
    {
     "data": {
      "text/html": [
       "<pre style=\"white-space:pre;overflow-x:auto;line-height:normal;font-family:Menlo,'DejaVu Sans Mono',consolas,'Courier New',monospace\"><span style=\"font-weight: bold\"> Total params: </span><span style=\"color: #00af00; text-decoration-color: #00af00\">22,268</span> (86.98 KB)\n",
       "</pre>\n"
      ],
      "text/plain": [
       "\u001b[1m Total params: \u001b[0m\u001b[38;5;34m22,268\u001b[0m (86.98 KB)\n"
      ]
     },
     "metadata": {},
     "output_type": "display_data"
    },
    {
     "data": {
      "text/html": [
       "<pre style=\"white-space:pre;overflow-x:auto;line-height:normal;font-family:Menlo,'DejaVu Sans Mono',consolas,'Courier New',monospace\"><span style=\"font-weight: bold\"> Trainable params: </span><span style=\"color: #00af00; text-decoration-color: #00af00\">22,268</span> (86.98 KB)\n",
       "</pre>\n"
      ],
      "text/plain": [
       "\u001b[1m Trainable params: \u001b[0m\u001b[38;5;34m22,268\u001b[0m (86.98 KB)\n"
      ]
     },
     "metadata": {},
     "output_type": "display_data"
    },
    {
     "data": {
      "text/html": [
       "<pre style=\"white-space:pre;overflow-x:auto;line-height:normal;font-family:Menlo,'DejaVu Sans Mono',consolas,'Courier New',monospace\"><span style=\"font-weight: bold\"> Non-trainable params: </span><span style=\"color: #00af00; text-decoration-color: #00af00\">0</span> (0.00 B)\n",
       "</pre>\n"
      ],
      "text/plain": [
       "\u001b[1m Non-trainable params: \u001b[0m\u001b[38;5;34m0\u001b[0m (0.00 B)\n"
      ]
     },
     "metadata": {},
     "output_type": "display_data"
    },
    {
     "name": "stdout",
     "output_type": "stream",
     "text": [
      "None\n",
      "Epoch 1/15\n",
      "\u001b[1m28/28\u001b[0m \u001b[32m━━━━━━━━━━━━━━━━━━━━\u001b[0m\u001b[37m\u001b[0m \u001b[1m3s\u001b[0m 43ms/step - accuracy: 0.3778 - loss: 1.3757 - val_accuracy: 0.6389 - val_loss: 1.3293\n",
      "Epoch 2/15\n",
      "\u001b[1m28/28\u001b[0m \u001b[32m━━━━━━━━━━━━━━━━━━━━\u001b[0m\u001b[37m\u001b[0m \u001b[1m1s\u001b[0m 35ms/step - accuracy: 0.8044 - loss: 1.2697 - val_accuracy: 0.8958 - val_loss: 1.0607\n",
      "Epoch 3/15\n",
      "\u001b[1m28/28\u001b[0m \u001b[32m━━━━━━━━━━━━━━━━━━━━\u001b[0m\u001b[37m\u001b[0m \u001b[1m1s\u001b[0m 34ms/step - accuracy: 0.8947 - loss: 0.8507 - val_accuracy: 0.9444 - val_loss: 0.3946\n",
      "Epoch 4/15\n",
      "\u001b[1m28/28\u001b[0m \u001b[32m━━━━━━━━━━━━━━━━━━━━\u001b[0m\u001b[37m\u001b[0m \u001b[1m1s\u001b[0m 34ms/step - accuracy: 0.9915 - loss: 0.2340 - val_accuracy: 1.0000 - val_loss: 0.0663\n",
      "Epoch 5/15\n",
      "\u001b[1m28/28\u001b[0m \u001b[32m━━━━━━━━━━━━━━━━━━━━\u001b[0m\u001b[37m\u001b[0m \u001b[1m1s\u001b[0m 34ms/step - accuracy: 1.0000 - loss: 0.0544 - val_accuracy: 1.0000 - val_loss: 0.0181\n",
      "Epoch 6/15\n",
      "\u001b[1m28/28\u001b[0m \u001b[32m━━━━━━━━━━━━━━━━━━━━\u001b[0m\u001b[37m\u001b[0m \u001b[1m1s\u001b[0m 34ms/step - accuracy: 1.0000 - loss: 0.0178 - val_accuracy: 1.0000 - val_loss: 0.0080\n",
      "Epoch 7/15\n",
      "\u001b[1m28/28\u001b[0m \u001b[32m━━━━━━━━━━━━━━━━━━━━\u001b[0m\u001b[37m\u001b[0m \u001b[1m1s\u001b[0m 34ms/step - accuracy: 1.0000 - loss: 0.0152 - val_accuracy: 1.0000 - val_loss: 0.0049\n",
      "Epoch 8/15\n",
      "\u001b[1m28/28\u001b[0m \u001b[32m━━━━━━━━━━━━━━━━━━━━\u001b[0m\u001b[37m\u001b[0m \u001b[1m1s\u001b[0m 34ms/step - accuracy: 1.0000 - loss: 0.0085 - val_accuracy: 1.0000 - val_loss: 0.0035\n",
      "Epoch 9/15\n",
      "\u001b[1m28/28\u001b[0m \u001b[32m━━━━━━━━━━━━━━━━━━━━\u001b[0m\u001b[37m\u001b[0m \u001b[1m1s\u001b[0m 34ms/step - accuracy: 1.0000 - loss: 0.0082 - val_accuracy: 1.0000 - val_loss: 0.0024\n",
      "Epoch 10/15\n",
      "\u001b[1m28/28\u001b[0m \u001b[32m━━━━━━━━━━━━━━━━━━━━\u001b[0m\u001b[37m\u001b[0m \u001b[1m1s\u001b[0m 34ms/step - accuracy: 1.0000 - loss: 0.0047 - val_accuracy: 1.0000 - val_loss: 0.0018\n",
      "Epoch 11/15\n",
      "\u001b[1m28/28\u001b[0m \u001b[32m━━━━━━━━━━━━━━━━━━━━\u001b[0m\u001b[37m\u001b[0m \u001b[1m1s\u001b[0m 34ms/step - accuracy: 1.0000 - loss: 0.0038 - val_accuracy: 1.0000 - val_loss: 0.0015\n",
      "Epoch 12/15\n",
      "\u001b[1m28/28\u001b[0m \u001b[32m━━━━━━━━━━━━━━━━━━━━\u001b[0m\u001b[37m\u001b[0m \u001b[1m1s\u001b[0m 34ms/step - accuracy: 1.0000 - loss: 0.0031 - val_accuracy: 1.0000 - val_loss: 0.0012\n",
      "Epoch 13/15\n",
      "\u001b[1m28/28\u001b[0m \u001b[32m━━━━━━━━━━━━━━━━━━━━\u001b[0m\u001b[37m\u001b[0m \u001b[1m1s\u001b[0m 34ms/step - accuracy: 1.0000 - loss: 0.0047 - val_accuracy: 1.0000 - val_loss: 0.0012\n",
      "Epoch 14/15\n",
      "\u001b[1m28/28\u001b[0m \u001b[32m━━━━━━━━━━━━━━━━━━━━\u001b[0m\u001b[37m\u001b[0m \u001b[1m1s\u001b[0m 34ms/step - accuracy: 1.0000 - loss: 0.0032 - val_accuracy: 1.0000 - val_loss: 7.9898e-04\n",
      "Epoch 15/15\n",
      "\u001b[1m28/28\u001b[0m \u001b[32m━━━━━━━━━━━━━━━━━━━━\u001b[0m\u001b[37m\u001b[0m \u001b[1m1s\u001b[0m 34ms/step - accuracy: 1.0000 - loss: 0.0023 - val_accuracy: 1.0000 - val_loss: 7.8237e-04\n"
     ]
    },
    {
     "data": {
      "text/plain": [
       "<keras.src.callbacks.history.History at 0x31a44b990>"
      ]
     },
     "execution_count": 24,
     "metadata": {},
     "output_type": "execute_result"
    }
   ],
   "source": [
    "from tensorflow.keras.callbacks import EarlyStopping\n",
    "es = EarlyStopping(monitor='val_loss', patience=3, restore_best_weights=True)\n",
    "\n",
    "# ===== 2. Tokenização =====\n",
    "vocab_size = 5000\n",
    "tokenizer2 = Tokenizer(num_words=vocab_size, oov_token=\"<OOV>\")\n",
    "tokenizer2.fit_on_texts(df[\"texto_final_stem\"])\n",
    "sequences = tokenizer2.texts_to_sequences(df[\"texto_final_stem\"])\n",
    "max_len = max(len(s) for s in sequences)  # tamanho máximo das frases\n",
    "#max_len = int(np.percentile([len(s) for s in sequences], 95))\n",
    "X = pad_sequences(sequences, maxlen=max_len, padding='post')\n",
    "y = df[\"label\"].values\n",
    "#print(y)\n",
    "\n",
    "# Split treino/teste\n",
    "X_train, X_test, y_train, y_test = train_test_split(X, y, test_size=0.3, random_state=42)\n",
    "\n",
    "# Class weights para balancear\n",
    "class_weights = compute_class_weight(\n",
    "    class_weight='balanced',\n",
    "    classes=np.unique(y_train),\n",
    "    y=y_train\n",
    ")\n",
    "class_weights_dict = dict(enumerate(class_weights))\n",
    "\n",
    "# ===== Modelo LSTM =====\n",
    "voc_size = len(tokenizer2.word_index) + 1\n",
    "embedding_vector_features = 40 #20\n",
    "\n",
    "model = Sequential()\n",
    "model.add(Embedding(voc_size, embedding_vector_features, input_length=max_len))\n",
    "model.add(Bidirectional(LSTM(32)))\n",
    "model.add(Dropout(0.5))\n",
    "model.add(Dense(len(label_encoder.classes_), activation='softmax'))\n",
    "\n",
    "model.compile(loss='sparse_categorical_crossentropy', optimizer='adam', metrics=['accuracy'])\n",
    "model.build(input_shape=(None, max_len))\n",
    "print(model.summary())\n",
    "\n",
    "# ===== Treino =====\n",
    "model.fit(\n",
    "    X_train, y_train,\n",
    "    validation_data=(X_test, y_test),\n",
    "    epochs=15,\n",
    "    batch_size=12 #, class_weight=class_weights_dict\n",
    ")\n"
   ]
  },
  {
   "cell_type": "code",
   "execution_count": 25,
   "id": "119e14f5-be21-42d6-961a-dad9cf236959",
   "metadata": {},
   "outputs": [
    {
     "name": "stdout",
     "output_type": "stream",
     "text": [
      "\u001b[1m5/5\u001b[0m \u001b[32m━━━━━━━━━━━━━━━━━━━━\u001b[0m\u001b[37m\u001b[0m \u001b[1m0s\u001b[0m 32ms/step - accuracy: 1.0000 - loss: 7.8361e-04\n",
      "\n",
      "Acurácia no teste: 1.0000\n"
     ]
    }
   ],
   "source": [
    "\n",
    "# ===== 7. Avaliação =====\n",
    "loss, acc = model.evaluate(X_test, y_test)\n",
    "print(f\"\\nAcurácia no teste: {acc:.4f}\")\n"
   ]
  },
  {
   "cell_type": "code",
   "execution_count": 26,
   "id": "e7aca202-66c0-4685-92c0-5ed19164fe7a",
   "metadata": {},
   "outputs": [
    {
     "name": "stdout",
     "output_type": "stream",
     "text": [
      "['pag', 'cont', 'luz']\n",
      "\u001b[1m1/1\u001b[0m \u001b[32m━━━━━━━━━━━━━━━━━━━━\u001b[0m\u001b[37m\u001b[0m \u001b[1m0s\u001b[0m 300ms/step\n",
      "[1.1898761e-04 4.3851067e-03 2.2408520e-04 9.9527174e-01]\n",
      "0.99527174\n",
      "\n",
      "Frase: ['pagar', 'a', 'conta', 'de', 'luz']\n",
      "Classe prevista: ['Pagamento']\n",
      "Probabilidade: 0.99527174\n"
     ]
    }
   ],
   "source": [
    "# ===== 8. Testando previsão =====\n",
    "nova_frase = [\"pagar a conta de luz\".lower()]\n",
    "nova_frase = [word_tokenize(entry, language='portuguese') for entry in nova_frase]\n",
    "\n",
    "tagged = tagger.tag(nova_frase[0]) \n",
    "final_words = []\n",
    "for word, tag in tagged:\n",
    "        if word not in stopwords_pt and word.isalpha():\n",
    "            final_words.append(stemmer.stem(word))\n",
    "\n",
    "print(final_words)\n",
    "\n",
    "seq = tokenizer2.texts_to_sequences([final_words])\n",
    "padded = pad_sequences(seq, maxlen=max_len, padding='post')\n",
    "\n",
    "# Faz predição\n",
    "pred = model.predict(padded)[0] \n",
    "\n",
    "print(pred)\n",
    "\n",
    "# Obtém índice da classe com maior probabilidade\n",
    "classe_idx = np.argmax(pred)\n",
    "prob = pred[classe_idx]\n",
    "\n",
    "print(prob)\n",
    "\n",
    "print(\"\\nFrase:\", nova_frase[0])\n",
    "print(\"Classe prevista:\", label_encoder.inverse_transform([classe_idx]))\n",
    "print(\"Probabilidade:\", prob)"
   ]
  },
  {
   "cell_type": "code",
   "execution_count": 27,
   "id": "e4374076-7982-4ae8-8416-66b0233d2fd1",
   "metadata": {},
   "outputs": [],
   "source": [
    "\n",
    "# ==== Dataset de teste ====\n",
    "dataset2 = [\n",
    "    (\"Pagar conta de luz\", None),\n",
    "    (\"Trasferir R$5\", None),\n",
    "    (\"Informe meu saldo\", None),\n",
    "    (\"Cobra dez reais\", None)\n",
    "]\n",
    "dfSample = pd.DataFrame(dataset2, columns=[\"texto\", \"classe_pred\"])\n",
    "\n"
   ]
  },
  {
   "cell_type": "code",
   "execution_count": 28,
   "id": "9ad08097-e128-4739-8517-fde762e19587",
   "metadata": {},
   "outputs": [],
   "source": [
    "def prever_classe(texto):\n",
    "    frase_proc = word_tokenize(texto.lower(), language='portuguese')\n",
    "    tagged = tagger.tag(frase_proc)\n",
    "    \n",
    "    final_words = []\n",
    "    for word in frase_proc:\n",
    "        if word not in stopwords_pt and word.isalpha():\n",
    "            final_words.append(stemmer.stem(word))\n",
    "    \n",
    "    # Sequência → padding\n",
    "    seq = tokenizer2.texts_to_sequences([final_words])\n",
    "    padded = pad_sequences(seq, maxlen=max_len, padding='post')\n",
    "    \n",
    "    # Predição\n",
    "    pred = model.predict(padded, verbose=0)[0]\n",
    "    classe_idx = np.argmax(pred)\n",
    "    prob = pred[classe_idx]\n",
    "    classe = label_encoder.inverse_transform([classe_idx])[0]\n",
    "    return classe, prob\n"
   ]
  },
  {
   "cell_type": "code",
   "execution_count": 29,
   "id": "59cf2f3f-8895-4863-b9a6-a50d61d32037",
   "metadata": {},
   "outputs": [
    {
     "name": "stdout",
     "output_type": "stream",
     "text": [
      "                texto     classe_pred  probabilidade\n",
      "0  Pagar conta de luz       Pagamento       0.995272\n",
      "1       Trasferir R$5  Consulta Saldo       0.382720\n",
      "2   Informe meu saldo  Consulta Saldo       0.999772\n",
      "3     Cobra dez reais        Cobrança       0.928873\n"
     ]
    }
   ],
   "source": [
    "# ==== Preencher previsões ====\n",
    "dfSample[\"classe_pred\"] = dfSample[\"texto\"].apply(\n",
    "    lambda x: prever_classe(x)[0]\n",
    ")\n",
    "dfSample[\"probabilidade\"] = dfSample[\"texto\"].apply(\n",
    "    lambda x: prever_classe(x)[1]\n",
    ")\n",
    "\n",
    "print(dfSample)"
   ]
  },
  {
   "cell_type": "markdown",
   "id": "f26a0e0d-b0cd-4234-8a13-f63d7f1301a9",
   "metadata": {},
   "source": [
    "## Lemmatization LSTM"
   ]
  },
  {
   "cell_type": "code",
   "execution_count": 30,
   "id": "e0185912-5227-4a8b-a6e9-56a8152b8627",
   "metadata": {},
   "outputs": [],
   "source": [
    "from nltk.stem import WordNetLemmatizer\n",
    "# Lemmatization \n",
    "lemmatizer = WordNetLemmatizer()\n",
    "tag_map = {\n",
    "    \"N\": \"n\", \"NPROP\": \"n\", \"NUM\": \"n\", \"ART\": \"n\",\n",
    "    \"ADJ\": \"a\", \"PROADJ\": \"a\",\n",
    "    \"V\": \"v\", \"PCP\": \"v\",\n",
    "    \"ADV\": \"r\", \"ADV-KS\": \"r\"\n",
    "}\n",
    "for index, entry in enumerate(df['texto_tratado']):\n",
    "    tokens = nltk.word_tokenize(entry, language='portuguese') \n",
    "    tagged = tagger.tag(tokens)  \t\n",
    "    final_words = []\n",
    "    for word, tag in tagged:\n",
    "        if word not in stopwords_pt and word.isalpha():\n",
    "            wn_pos = tag_map.get(tag, \"n\")  # default \"n\" (substantivo)\n",
    "            lemma = lemmatizer.lemmatize(word, wn_pos)\n",
    "            final_words.append(lemma.lower())\n",
    " \n",
    "    df.loc[index, 'texto_final_lemm'] = ' '.join(final_words)"
   ]
  },
  {
   "cell_type": "code",
   "execution_count": 31,
   "id": "f6f330ac-c3ae-4280-a2a4-dc38c642546d",
   "metadata": {},
   "outputs": [
    {
     "data": {
      "text/html": [
       "<div>\n",
       "<style scoped>\n",
       "    .dataframe tbody tr th:only-of-type {\n",
       "        vertical-align: middle;\n",
       "    }\n",
       "\n",
       "    .dataframe tbody tr th {\n",
       "        vertical-align: top;\n",
       "    }\n",
       "\n",
       "    .dataframe thead th {\n",
       "        text-align: right;\n",
       "    }\n",
       "</style>\n",
       "<table border=\"1\" class=\"dataframe\">\n",
       "  <thead>\n",
       "    <tr style=\"text-align: right;\">\n",
       "      <th></th>\n",
       "      <th>texto</th>\n",
       "      <th>classe</th>\n",
       "      <th>label</th>\n",
       "      <th>texto_tratado</th>\n",
       "      <th>texto_final_stem</th>\n",
       "      <th>texto_final_lemm</th>\n",
       "    </tr>\n",
       "  </thead>\n",
       "  <tbody>\n",
       "    <tr>\n",
       "      <th>0</th>\n",
       "      <td>Cobrar o valor total de R$ 2338</td>\n",
       "      <td>Cobrança</td>\n",
       "      <td>0</td>\n",
       "      <td>cobrar o valor total de r$ 2338</td>\n",
       "      <td>cobr val total r</td>\n",
       "      <td>cobrar valor total r</td>\n",
       "    </tr>\n",
       "    <tr>\n",
       "      <th>1</th>\n",
       "      <td>Cobrar a quantia de R$ 4137 referente ao serviço</td>\n",
       "      <td>Cobrança</td>\n",
       "      <td>0</td>\n",
       "      <td>cobrar a quantia de r$ 4137 referente ao serviço</td>\n",
       "      <td>cobr quant r refer serviç</td>\n",
       "      <td>cobrar quantia r referente serviço</td>\n",
       "    </tr>\n",
       "    <tr>\n",
       "      <th>2</th>\n",
       "      <td>Gerar cobrança automática de R$ 4088</td>\n",
       "      <td>Cobrança</td>\n",
       "      <td>0</td>\n",
       "      <td>gerar cobrança automática de r$ 4088</td>\n",
       "      <td>ger cobranç automá r</td>\n",
       "      <td>gerar cobrança automática r</td>\n",
       "    </tr>\n",
       "    <tr>\n",
       "      <th>3</th>\n",
       "      <td>Passe a fatura de R$ 1724 no cartão</td>\n",
       "      <td>Cobrança</td>\n",
       "      <td>0</td>\n",
       "      <td>passe a fatura de r$ 1724 no cartão</td>\n",
       "      <td>pass fatur r cart</td>\n",
       "      <td>passe fatura r cartão</td>\n",
       "    </tr>\n",
       "    <tr>\n",
       "      <th>4</th>\n",
       "      <td>Cobrar taxa de R$ 2370,77 pela entrega</td>\n",
       "      <td>Cobrança</td>\n",
       "      <td>0</td>\n",
       "      <td>cobrar taxa de r$ 2370,77 pela entrega</td>\n",
       "      <td>cobr tax r entreg</td>\n",
       "      <td>cobrar taxon r entrega</td>\n",
       "    </tr>\n",
       "  </tbody>\n",
       "</table>\n",
       "</div>"
      ],
      "text/plain": [
       "                                              texto    classe  label  \\\n",
       "0                   Cobrar o valor total de R$ 2338  Cobrança      0   \n",
       "1  Cobrar a quantia de R$ 4137 referente ao serviço  Cobrança      0   \n",
       "2              Gerar cobrança automática de R$ 4088  Cobrança      0   \n",
       "3               Passe a fatura de R$ 1724 no cartão  Cobrança      0   \n",
       "4            Cobrar taxa de R$ 2370,77 pela entrega  Cobrança      0   \n",
       "\n",
       "                                      texto_tratado  \\\n",
       "0                   cobrar o valor total de r$ 2338   \n",
       "1  cobrar a quantia de r$ 4137 referente ao serviço   \n",
       "2              gerar cobrança automática de r$ 4088   \n",
       "3               passe a fatura de r$ 1724 no cartão   \n",
       "4            cobrar taxa de r$ 2370,77 pela entrega   \n",
       "\n",
       "            texto_final_stem                    texto_final_lemm  \n",
       "0           cobr val total r                cobrar valor total r  \n",
       "1  cobr quant r refer serviç  cobrar quantia r referente serviço  \n",
       "2       ger cobranç automá r         gerar cobrança automática r  \n",
       "3          pass fatur r cart               passe fatura r cartão  \n",
       "4          cobr tax r entreg              cobrar taxon r entrega  "
      ]
     },
     "execution_count": 31,
     "metadata": {},
     "output_type": "execute_result"
    }
   ],
   "source": [
    "df.head()"
   ]
  },
  {
   "cell_type": "code",
   "execution_count": 32,
   "id": "771dd373-af53-4a85-98df-4736c79480d3",
   "metadata": {},
   "outputs": [
    {
     "name": "stderr",
     "output_type": "stream",
     "text": [
      "/Users/felipemenezes/Codes/pythonEnvs/machine/lib/python3.11/site-packages/keras/src/layers/core/embedding.py:90: UserWarning: Argument `input_length` is deprecated. Just remove it.\n",
      "  warnings.warn(\n"
     ]
    },
    {
     "data": {
      "text/html": [
       "<pre style=\"white-space:pre;overflow-x:auto;line-height:normal;font-family:Menlo,'DejaVu Sans Mono',consolas,'Courier New',monospace\"><span style=\"font-weight: bold\">Model: \"sequential_3\"</span>\n",
       "</pre>\n"
      ],
      "text/plain": [
       "\u001b[1mModel: \"sequential_3\"\u001b[0m\n"
      ]
     },
     "metadata": {},
     "output_type": "display_data"
    },
    {
     "data": {
      "text/html": [
       "<pre style=\"white-space:pre;overflow-x:auto;line-height:normal;font-family:Menlo,'DejaVu Sans Mono',consolas,'Courier New',monospace\">┏━━━━━━━━━━━━━━━━━━━━━━━━━━━━━━━━━┳━━━━━━━━━━━━━━━━━━━━━━━━┳━━━━━━━━━━━━━━━┓\n",
       "┃<span style=\"font-weight: bold\"> Layer (type)                    </span>┃<span style=\"font-weight: bold\"> Output Shape           </span>┃<span style=\"font-weight: bold\">       Param # </span>┃\n",
       "┡━━━━━━━━━━━━━━━━━━━━━━━━━━━━━━━━━╇━━━━━━━━━━━━━━━━━━━━━━━━╇━━━━━━━━━━━━━━━┩\n",
       "│ embedding_3 (<span style=\"color: #0087ff; text-decoration-color: #0087ff\">Embedding</span>)         │ (<span style=\"color: #00d7ff; text-decoration-color: #00d7ff\">None</span>, <span style=\"color: #00af00; text-decoration-color: #00af00\">5</span>, <span style=\"color: #00af00; text-decoration-color: #00af00\">20</span>)          │         <span style=\"color: #00af00; text-decoration-color: #00af00\">1,820</span> │\n",
       "├─────────────────────────────────┼────────────────────────┼───────────────┤\n",
       "│ bidirectional_3 (<span style=\"color: #0087ff; text-decoration-color: #0087ff\">Bidirectional</span>) │ (<span style=\"color: #00d7ff; text-decoration-color: #00d7ff\">None</span>, <span style=\"color: #00af00; text-decoration-color: #00af00\">200</span>)            │        <span style=\"color: #00af00; text-decoration-color: #00af00\">96,800</span> │\n",
       "├─────────────────────────────────┼────────────────────────┼───────────────┤\n",
       "│ dropout_3 (<span style=\"color: #0087ff; text-decoration-color: #0087ff\">Dropout</span>)             │ (<span style=\"color: #00d7ff; text-decoration-color: #00d7ff\">None</span>, <span style=\"color: #00af00; text-decoration-color: #00af00\">200</span>)            │             <span style=\"color: #00af00; text-decoration-color: #00af00\">0</span> │\n",
       "├─────────────────────────────────┼────────────────────────┼───────────────┤\n",
       "│ dense_3 (<span style=\"color: #0087ff; text-decoration-color: #0087ff\">Dense</span>)                 │ (<span style=\"color: #00d7ff; text-decoration-color: #00d7ff\">None</span>, <span style=\"color: #00af00; text-decoration-color: #00af00\">4</span>)              │           <span style=\"color: #00af00; text-decoration-color: #00af00\">804</span> │\n",
       "└─────────────────────────────────┴────────────────────────┴───────────────┘\n",
       "</pre>\n"
      ],
      "text/plain": [
       "┏━━━━━━━━━━━━━━━━━━━━━━━━━━━━━━━━━┳━━━━━━━━━━━━━━━━━━━━━━━━┳━━━━━━━━━━━━━━━┓\n",
       "┃\u001b[1m \u001b[0m\u001b[1mLayer (type)                   \u001b[0m\u001b[1m \u001b[0m┃\u001b[1m \u001b[0m\u001b[1mOutput Shape          \u001b[0m\u001b[1m \u001b[0m┃\u001b[1m \u001b[0m\u001b[1m      Param #\u001b[0m\u001b[1m \u001b[0m┃\n",
       "┡━━━━━━━━━━━━━━━━━━━━━━━━━━━━━━━━━╇━━━━━━━━━━━━━━━━━━━━━━━━╇━━━━━━━━━━━━━━━┩\n",
       "│ embedding_3 (\u001b[38;5;33mEmbedding\u001b[0m)         │ (\u001b[38;5;45mNone\u001b[0m, \u001b[38;5;34m5\u001b[0m, \u001b[38;5;34m20\u001b[0m)          │         \u001b[38;5;34m1,820\u001b[0m │\n",
       "├─────────────────────────────────┼────────────────────────┼───────────────┤\n",
       "│ bidirectional_3 (\u001b[38;5;33mBidirectional\u001b[0m) │ (\u001b[38;5;45mNone\u001b[0m, \u001b[38;5;34m200\u001b[0m)            │        \u001b[38;5;34m96,800\u001b[0m │\n",
       "├─────────────────────────────────┼────────────────────────┼───────────────┤\n",
       "│ dropout_3 (\u001b[38;5;33mDropout\u001b[0m)             │ (\u001b[38;5;45mNone\u001b[0m, \u001b[38;5;34m200\u001b[0m)            │             \u001b[38;5;34m0\u001b[0m │\n",
       "├─────────────────────────────────┼────────────────────────┼───────────────┤\n",
       "│ dense_3 (\u001b[38;5;33mDense\u001b[0m)                 │ (\u001b[38;5;45mNone\u001b[0m, \u001b[38;5;34m4\u001b[0m)              │           \u001b[38;5;34m804\u001b[0m │\n",
       "└─────────────────────────────────┴────────────────────────┴───────────────┘\n"
      ]
     },
     "metadata": {},
     "output_type": "display_data"
    },
    {
     "data": {
      "text/html": [
       "<pre style=\"white-space:pre;overflow-x:auto;line-height:normal;font-family:Menlo,'DejaVu Sans Mono',consolas,'Courier New',monospace\"><span style=\"font-weight: bold\"> Total params: </span><span style=\"color: #00af00; text-decoration-color: #00af00\">99,424</span> (388.38 KB)\n",
       "</pre>\n"
      ],
      "text/plain": [
       "\u001b[1m Total params: \u001b[0m\u001b[38;5;34m99,424\u001b[0m (388.38 KB)\n"
      ]
     },
     "metadata": {},
     "output_type": "display_data"
    },
    {
     "data": {
      "text/html": [
       "<pre style=\"white-space:pre;overflow-x:auto;line-height:normal;font-family:Menlo,'DejaVu Sans Mono',consolas,'Courier New',monospace\"><span style=\"font-weight: bold\"> Trainable params: </span><span style=\"color: #00af00; text-decoration-color: #00af00\">99,424</span> (388.38 KB)\n",
       "</pre>\n"
      ],
      "text/plain": [
       "\u001b[1m Trainable params: \u001b[0m\u001b[38;5;34m99,424\u001b[0m (388.38 KB)\n"
      ]
     },
     "metadata": {},
     "output_type": "display_data"
    },
    {
     "data": {
      "text/html": [
       "<pre style=\"white-space:pre;overflow-x:auto;line-height:normal;font-family:Menlo,'DejaVu Sans Mono',consolas,'Courier New',monospace\"><span style=\"font-weight: bold\"> Non-trainable params: </span><span style=\"color: #00af00; text-decoration-color: #00af00\">0</span> (0.00 B)\n",
       "</pre>\n"
      ],
      "text/plain": [
       "\u001b[1m Non-trainable params: \u001b[0m\u001b[38;5;34m0\u001b[0m (0.00 B)\n"
      ]
     },
     "metadata": {},
     "output_type": "display_data"
    },
    {
     "name": "stdout",
     "output_type": "stream",
     "text": [
      "None\n",
      "Epoch 1/15\n",
      "\u001b[1m28/28\u001b[0m \u001b[32m━━━━━━━━━━━━━━━━━━━━\u001b[0m\u001b[37m\u001b[0m \u001b[1m2s\u001b[0m 45ms/step - accuracy: 0.3872 - loss: 1.3719 - val_accuracy: 0.3889 - val_loss: 1.2926\n",
      "Epoch 2/15\n",
      "\u001b[1m28/28\u001b[0m \u001b[32m━━━━━━━━━━━━━━━━━━━━\u001b[0m\u001b[37m\u001b[0m \u001b[1m1s\u001b[0m 36ms/step - accuracy: 0.5828 - loss: 1.0943 - val_accuracy: 0.6806 - val_loss: 0.5372\n",
      "Epoch 3/15\n",
      "\u001b[1m28/28\u001b[0m \u001b[32m━━━━━━━━━━━━━━━━━━━━\u001b[0m\u001b[37m\u001b[0m \u001b[1m1s\u001b[0m 36ms/step - accuracy: 0.8218 - loss: 0.3949 - val_accuracy: 0.9722 - val_loss: 0.1713\n",
      "Epoch 4/15\n",
      "\u001b[1m28/28\u001b[0m \u001b[32m━━━━━━━━━━━━━━━━━━━━\u001b[0m\u001b[37m\u001b[0m \u001b[1m1s\u001b[0m 36ms/step - accuracy: 0.9805 - loss: 0.0788 - val_accuracy: 1.0000 - val_loss: 0.0175\n",
      "Epoch 5/15\n",
      "\u001b[1m28/28\u001b[0m \u001b[32m━━━━━━━━━━━━━━━━━━━━\u001b[0m\u001b[37m\u001b[0m \u001b[1m1s\u001b[0m 36ms/step - accuracy: 1.0000 - loss: 0.0096 - val_accuracy: 1.0000 - val_loss: 0.0061\n",
      "Epoch 6/15\n",
      "\u001b[1m28/28\u001b[0m \u001b[32m━━━━━━━━━━━━━━━━━━━━\u001b[0m\u001b[37m\u001b[0m \u001b[1m1s\u001b[0m 36ms/step - accuracy: 1.0000 - loss: 0.0044 - val_accuracy: 1.0000 - val_loss: 0.0036\n",
      "Epoch 7/15\n",
      "\u001b[1m28/28\u001b[0m \u001b[32m━━━━━━━━━━━━━━━━━━━━\u001b[0m\u001b[37m\u001b[0m \u001b[1m1s\u001b[0m 36ms/step - accuracy: 1.0000 - loss: 0.0029 - val_accuracy: 1.0000 - val_loss: 0.0033\n",
      "Epoch 8/15\n",
      "\u001b[1m28/28\u001b[0m \u001b[32m━━━━━━━━━━━━━━━━━━━━\u001b[0m\u001b[37m\u001b[0m \u001b[1m1s\u001b[0m 36ms/step - accuracy: 1.0000 - loss: 0.0020 - val_accuracy: 1.0000 - val_loss: 0.0017\n",
      "Epoch 9/15\n",
      "\u001b[1m28/28\u001b[0m \u001b[32m━━━━━━━━━━━━━━━━━━━━\u001b[0m\u001b[37m\u001b[0m \u001b[1m1s\u001b[0m 36ms/step - accuracy: 1.0000 - loss: 0.0014 - val_accuracy: 1.0000 - val_loss: 0.0015\n",
      "Epoch 10/15\n",
      "\u001b[1m28/28\u001b[0m \u001b[32m━━━━━━━━━━━━━━━━━━━━\u001b[0m\u001b[37m\u001b[0m \u001b[1m1s\u001b[0m 36ms/step - accuracy: 1.0000 - loss: 0.0012 - val_accuracy: 1.0000 - val_loss: 0.0012\n",
      "Epoch 11/15\n",
      "\u001b[1m28/28\u001b[0m \u001b[32m━━━━━━━━━━━━━━━━━━━━\u001b[0m\u001b[37m\u001b[0m \u001b[1m1s\u001b[0m 36ms/step - accuracy: 1.0000 - loss: 0.0012 - val_accuracy: 1.0000 - val_loss: 0.0011\n",
      "Epoch 12/15\n",
      "\u001b[1m28/28\u001b[0m \u001b[32m━━━━━━━━━━━━━━━━━━━━\u001b[0m\u001b[37m\u001b[0m \u001b[1m1s\u001b[0m 36ms/step - accuracy: 1.0000 - loss: 9.2058e-04 - val_accuracy: 1.0000 - val_loss: 8.7505e-04\n",
      "Epoch 13/15\n",
      "\u001b[1m28/28\u001b[0m \u001b[32m━━━━━━━━━━━━━━━━━━━━\u001b[0m\u001b[37m\u001b[0m \u001b[1m1s\u001b[0m 36ms/step - accuracy: 1.0000 - loss: 7.1053e-04 - val_accuracy: 1.0000 - val_loss: 7.7702e-04\n",
      "Epoch 14/15\n",
      "\u001b[1m28/28\u001b[0m \u001b[32m━━━━━━━━━━━━━━━━━━━━\u001b[0m\u001b[37m\u001b[0m \u001b[1m1s\u001b[0m 36ms/step - accuracy: 1.0000 - loss: 8.1862e-04 - val_accuracy: 1.0000 - val_loss: 6.2526e-04\n",
      "Epoch 15/15\n",
      "\u001b[1m28/28\u001b[0m \u001b[32m━━━━━━━━━━━━━━━━━━━━\u001b[0m\u001b[37m\u001b[0m \u001b[1m1s\u001b[0m 37ms/step - accuracy: 1.0000 - loss: 5.1981e-04 - val_accuracy: 1.0000 - val_loss: 5.1733e-04\n"
     ]
    },
    {
     "data": {
      "text/plain": [
       "<keras.src.callbacks.history.History at 0x3616ae490>"
      ]
     },
     "execution_count": 32,
     "metadata": {},
     "output_type": "execute_result"
    }
   ],
   "source": [
    "# ===== Tokenização para texto_final_lemm =====\n",
    "tokenizer_lemm = Tokenizer(num_words=vocab_size, oov_token=\"<OOV>\")\n",
    "tokenizer_lemm.fit_on_texts(df[\"texto_final_lemm\"])\n",
    "\n",
    "sequences_lemm = tokenizer_lemm.texts_to_sequences(df[\"texto_final_lemm\"])\n",
    "max_len_lemm = int(np.percentile([len(s) for s in sequences_lemm], 95))\n",
    "\n",
    "X_lemm = pad_sequences(sequences_lemm, maxlen=max_len_lemm, padding='post')\n",
    "y_lemm = df[\"label\"].values\n",
    "\n",
    "# ===== Split treino/teste =====\n",
    "X_train_lemm, X_test_lemm, y_train_lemm, y_test_lemm = train_test_split(\n",
    "    X_lemm, y_lemm, test_size=0.3, random_state=42\n",
    ")\n",
    "\n",
    "# ===== Class weights =====\n",
    "class_weights_lemm = compute_class_weight(\n",
    "    class_weight='balanced',\n",
    "    classes=np.unique(y_train_lemm),\n",
    "    y=y_train_lemm\n",
    ")\n",
    "class_weights_dict_lemm = dict(enumerate(class_weights_lemm))\n",
    "\n",
    "# ===== Modelo LSTM =====\n",
    "voc_size_lemm = len(tokenizer_lemm.word_index) + 1\n",
    "embedding_vector_features_lemm = 20\n",
    "\n",
    "model_lemm = Sequential()\n",
    "model_lemm.add(Embedding(voc_size_lemm, embedding_vector_features_lemm, input_length=max_len_lemm))\n",
    "model_lemm.add(Bidirectional(LSTM(100)))\n",
    "model_lemm.add(Dropout(0.3))\n",
    "model_lemm.add(Dense(len(label_encoder.classes_), activation='softmax'))\n",
    "\n",
    "model_lemm.compile(loss='sparse_categorical_crossentropy', optimizer='adam', metrics=['accuracy'])\n",
    "model_lemm.build(input_shape=(None, max_len_lemm))\n",
    "print(model_lemm.summary())\n",
    "\n",
    "# ===== Treino =====\n",
    "model_lemm.fit(\n",
    "    X_train_lemm, y_train_lemm,\n",
    "    validation_data=(X_test_lemm, y_test_lemm),\n",
    "    epochs=15,\n",
    "    batch_size=12,\n",
    "    #class_weight=class_weights_dict_lemm\n",
    ")"
   ]
  },
  {
   "cell_type": "code",
   "execution_count": 33,
   "id": "87b05799-8177-4171-a6f8-7ae56f4ff71b",
   "metadata": {},
   "outputs": [],
   "source": [
    "def prever_classe_lemm(texto):\n",
    "    # Tokeniza\n",
    "    frase_proc = nltk.word_tokenize(texto.lower(), language='portuguese')\n",
    "    tagged = tagger.tag(frase_proc)\n",
    "    lemmatizer = WordNetLemmatizer()\n",
    "    tag_map = {\n",
    "        \"N\": \"n\", \"NPROP\": \"n\", \"NUM\": \"n\", \"ART\": \"n\",\n",
    "        \"ADJ\": \"a\", \"PROADJ\": \"a\",\n",
    "        \"V\": \"v\", \"PCP\": \"v\",\n",
    "        \"ADV\": \"r\", \"ADV-KS\": \"r\"\n",
    "    }\n",
    "    # Aplica lematização\n",
    "    final_words_lemm = []\n",
    "    for word, tag in tagged:\n",
    "        if word not in stopwords_pt and word.isalpha():\n",
    "            wn_pos = tag_map.get(tag, \"n\")  # default \"n\" (substantivo)\n",
    "            lemma = lemmatizer.lemmatize(word, wn_pos)\n",
    "            final_words.append(lemma.lower())\n",
    "\n",
    "    # Sequência → padding (agora com tokenizer3 e max_len_lemm)\n",
    "    seq = tokenizer_lemm.texts_to_sequences([final_words_lemm])\n",
    "    padded = pad_sequences(seq, maxlen=max_len_lemm, padding='post')\n",
    "\n",
    "    # Predição\n",
    "    pred = model_lemm.predict(padded, verbose=0)[0]\n",
    "    classe_idx = np.argmax(pred)\n",
    "    prob = pred[classe_idx]\n",
    "    classe = label_encoder.inverse_transform([classe_idx])[0]\n",
    "\n",
    "    return classe, prob"
   ]
  },
  {
   "cell_type": "code",
   "execution_count": 34,
   "id": "e34c7730-33b3-4fdd-a384-0117440ec064",
   "metadata": {},
   "outputs": [
    {
     "name": "stdout",
     "output_type": "stream",
     "text": [
      "                texto classe_pred_lemm\n",
      "0  Pagar conta de luz   Consulta Saldo\n",
      "1       Trasferir R$5   Consulta Saldo\n",
      "2   Informe meu saldo   Consulta Saldo\n",
      "3     Cobra dez reais   Consulta Saldo\n"
     ]
    }
   ],
   "source": [
    "# ==== Preencher previsões ====\n",
    "dfSample[\"classe_pred_lemm\"] = dfSample[\"texto\"].apply(\n",
    "    lambda x: prever_classe_lemm(x)[0]\n",
    ")\n",
    "dfSample[\"probabilidade_lemm\"] = dfSample[\"texto\"].apply(\n",
    "    lambda x: prever_classe_lemm(x)[1]\n",
    ")\n",
    "\n",
    "print(dfSample[['texto', 'classe_pred_lemm'] ])"
   ]
  }
 ],
 "metadata": {
  "kernelspec": {
   "display_name": "Python 3 (ipykernel)",
   "language": "python",
   "name": "python3"
  },
  "language_info": {
   "codemirror_mode": {
    "name": "ipython",
    "version": 3
   },
   "file_extension": ".py",
   "mimetype": "text/x-python",
   "name": "python",
   "nbconvert_exporter": "python",
   "pygments_lexer": "ipython3",
   "version": "3.11.6"
  }
 },
 "nbformat": 4,
 "nbformat_minor": 5
}
