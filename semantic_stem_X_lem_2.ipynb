{
 "cells": [
  {
   "cell_type": "markdown",
   "id": "590672da-41ac-4d86-a889-7e5d0f8f74ee",
   "metadata": {},
   "source": [
    "# Classificador de Intenções\n",
    "Pré processamento de textos - comparação entre Stemming X Lemmatization"
   ]
  },
  {
   "cell_type": "markdown",
   "id": "4b1300d8-8e80-4d71-a523-77fdee6ccc40",
   "metadata": {},
   "source": [
    "## Dataset Expandido \n",
    " - Confusion Matrix\n",
    " - Extração de valor\n",
    "   "
   ]
  },
  {
   "cell_type": "code",
   "execution_count": 1,
   "id": "086e03d8-f5a0-4293-a585-d7cd209e23f9",
   "metadata": {},
   "outputs": [],
   "source": [
    "\n",
    "import pandas as pd\n",
    "import numpy as np\n",
    "\n",
    "from tensorflow.keras.models import Sequential\n",
    "from tensorflow.keras.layers import Embedding, Bidirectional, LSTM, Dropout, Dense\n",
    "from tensorflow.keras.preprocessing.text import Tokenizer\n",
    "from tensorflow.keras.preprocessing.sequence import pad_sequences\n",
    "from sklearn.model_selection import train_test_split\n",
    "from sklearn.preprocessing import LabelEncoder\n",
    "from sklearn.utils.class_weight import compute_class_weight"
   ]
  },
  {
   "cell_type": "code",
   "execution_count": 2,
   "id": "9a34734d-ac11-43ef-aae1-7d3b12fbeed2",
   "metadata": {},
   "outputs": [
    {
     "data": {
      "text/html": [
       "<div>\n",
       "<style scoped>\n",
       "    .dataframe tbody tr th:only-of-type {\n",
       "        vertical-align: middle;\n",
       "    }\n",
       "\n",
       "    .dataframe tbody tr th {\n",
       "        vertical-align: top;\n",
       "    }\n",
       "\n",
       "    .dataframe thead th {\n",
       "        text-align: right;\n",
       "    }\n",
       "</style>\n",
       "<table border=\"1\" class=\"dataframe\">\n",
       "  <thead>\n",
       "    <tr style=\"text-align: right;\">\n",
       "      <th></th>\n",
       "      <th>texto</th>\n",
       "      <th>classe</th>\n",
       "    </tr>\n",
       "  </thead>\n",
       "  <tbody>\n",
       "    <tr>\n",
       "      <th>0</th>\n",
       "      <td>Lançar cobrança para João no valor de R$ 3399,97</td>\n",
       "      <td>Cobrança</td>\n",
       "    </tr>\n",
       "    <tr>\n",
       "      <th>1</th>\n",
       "      <td>Gerar cobrança automática de R$ 3108</td>\n",
       "      <td>Cobrança</td>\n",
       "    </tr>\n",
       "    <tr>\n",
       "      <th>2</th>\n",
       "      <td>Cobrar R$ 4554 à vista amanhã</td>\n",
       "      <td>Cobrança</td>\n",
       "    </tr>\n",
       "    <tr>\n",
       "      <th>3</th>\n",
       "      <td>Passe a cobrança de R$ 9,50 para o cliente</td>\n",
       "      <td>Cobrança</td>\n",
       "    </tr>\n",
       "    <tr>\n",
       "      <th>4</th>\n",
       "      <td>Cobrar R$ 541 à vista amanhã</td>\n",
       "      <td>Cobrança</td>\n",
       "    </tr>\n",
       "  </tbody>\n",
       "</table>\n",
       "</div>"
      ],
      "text/plain": [
       "                                              texto    classe\n",
       "0  Lançar cobrança para João no valor de R$ 3399,97  Cobrança\n",
       "1              Gerar cobrança automática de R$ 3108  Cobrança\n",
       "2                     Cobrar R$ 4554 à vista amanhã  Cobrança\n",
       "3        Passe a cobrança de R$ 9,50 para o cliente  Cobrança\n",
       "4                      Cobrar R$ 541 à vista amanhã  Cobrança"
      ]
     },
     "execution_count": 2,
     "metadata": {},
     "output_type": "execute_result"
    }
   ],
   "source": [
    "# ===== Dataset sintético =====\n",
    "\n",
    "df = pd.read_csv('dataset_bancario_expandido.csv')\n",
    "df.rename(columns={\"frase\": \"texto\", \"label\": \"classe\"}, inplace=True)\n",
    "df.head()\n"
   ]
  },
  {
   "cell_type": "code",
   "execution_count": 3,
   "id": "5f309194-aee3-4385-bae7-b11d442164ff",
   "metadata": {},
   "outputs": [
    {
     "data": {
      "text/html": [
       "<div>\n",
       "<style scoped>\n",
       "    .dataframe tbody tr th:only-of-type {\n",
       "        vertical-align: middle;\n",
       "    }\n",
       "\n",
       "    .dataframe tbody tr th {\n",
       "        vertical-align: top;\n",
       "    }\n",
       "\n",
       "    .dataframe thead th {\n",
       "        text-align: right;\n",
       "    }\n",
       "</style>\n",
       "<table border=\"1\" class=\"dataframe\">\n",
       "  <thead>\n",
       "    <tr style=\"text-align: right;\">\n",
       "      <th></th>\n",
       "      <th>texto</th>\n",
       "      <th>classe</th>\n",
       "      <th>label</th>\n",
       "    </tr>\n",
       "  </thead>\n",
       "  <tbody>\n",
       "    <tr>\n",
       "      <th>0</th>\n",
       "      <td>Lançar cobrança para João no valor de R$ 3399,97</td>\n",
       "      <td>Cobrança</td>\n",
       "      <td>0</td>\n",
       "    </tr>\n",
       "    <tr>\n",
       "      <th>1</th>\n",
       "      <td>Gerar cobrança automática de R$ 3108</td>\n",
       "      <td>Cobrança</td>\n",
       "      <td>0</td>\n",
       "    </tr>\n",
       "    <tr>\n",
       "      <th>2</th>\n",
       "      <td>Cobrar R$ 4554 à vista amanhã</td>\n",
       "      <td>Cobrança</td>\n",
       "      <td>0</td>\n",
       "    </tr>\n",
       "    <tr>\n",
       "      <th>3</th>\n",
       "      <td>Passe a cobrança de R$ 9,50 para o cliente</td>\n",
       "      <td>Cobrança</td>\n",
       "      <td>0</td>\n",
       "    </tr>\n",
       "    <tr>\n",
       "      <th>4</th>\n",
       "      <td>Cobrar R$ 541 à vista amanhã</td>\n",
       "      <td>Cobrança</td>\n",
       "      <td>0</td>\n",
       "    </tr>\n",
       "  </tbody>\n",
       "</table>\n",
       "</div>"
      ],
      "text/plain": [
       "                                              texto    classe  label\n",
       "0  Lançar cobrança para João no valor de R$ 3399,97  Cobrança      0\n",
       "1              Gerar cobrança automática de R$ 3108  Cobrança      0\n",
       "2                     Cobrar R$ 4554 à vista amanhã  Cobrança      0\n",
       "3        Passe a cobrança de R$ 9,50 para o cliente  Cobrança      0\n",
       "4                      Cobrar R$ 541 à vista amanhã  Cobrança      0"
      ]
     },
     "execution_count": 3,
     "metadata": {},
     "output_type": "execute_result"
    }
   ],
   "source": [
    "# Codificação das labels\n",
    "label_encoder = LabelEncoder()\n",
    "df[\"label\"] = label_encoder.fit_transform(df[\"classe\"])\n",
    "df.head()"
   ]
  },
  {
   "cell_type": "markdown",
   "id": "d31e2a0d-a67b-4b23-b99a-a047493862ab",
   "metadata": {},
   "source": [
    "## Stemming"
   ]
  },
  {
   "cell_type": "code",
   "execution_count": 4,
   "id": "c8df9e63-8137-4e75-8238-910240ec21b5",
   "metadata": {},
   "outputs": [
    {
     "name": "stderr",
     "output_type": "stream",
     "text": [
      "[nltk_data] Downloading package rslp to\n",
      "[nltk_data]     /Users/felipemenezes/nltk_data...\n",
      "[nltk_data]   Package rslp is already up-to-date!\n",
      "[nltk_data] Downloading package mac_morpho to\n",
      "[nltk_data]     /Users/felipemenezes/nltk_data...\n",
      "[nltk_data]   Package mac_morpho is already up-to-date!\n",
      "[nltk_data] Downloading package stopwords to\n",
      "[nltk_data]     /Users/felipemenezes/nltk_data...\n",
      "[nltk_data]   Package stopwords is already up-to-date!\n"
     ]
    },
    {
     "name": "stdout",
     "output_type": "stream",
     "text": [
      "[[('Jersei', 'N'), ('atinge', 'V'), ('média', 'N'), ('de', 'PREP'), ('Cr$', 'CUR'), ('1,4', 'NUM'), ('milhão', 'N'), ('em', 'PREP|+'), ('a', 'ART'), ('venda', 'N'), ('de', 'PREP|+'), ('a', 'ART'), ('Pinhal', 'NPROP'), ('em', 'PREP'), ('São', 'NPROP'), ('Paulo', 'NPROP')], [('Programe', 'V'), ('sua', 'PROADJ'), ('viagem', 'N'), ('a', 'PREP|+'), ('a', 'ART'), ('Exposição', 'NPROP'), ('Nacional', 'NPROP'), ('do', 'NPROP'), ('Zebu', 'NPROP'), (',', ','), ('que', 'PRO-KS-REL'), ('começa', 'V'), ('dia', 'N'), ('25', 'N|AP')], ...]\n"
     ]
    }
   ],
   "source": [
    "import nltk\n",
    "import spacy\n",
    "from nltk.tokenize import word_tokenize\n",
    "from nltk import pos_tag\n",
    "from nltk.corpus import stopwords\n",
    "from collections import defaultdict\n",
    "from nltk.corpus import wordnet as wn\n",
    "\n",
    "from nltk.corpus import mac_morpho\n",
    "from nltk.stem import RSLPStemmer\n",
    "\n",
    "\n",
    "nltk.download('rslp')\n",
    "nltk.download('mac_morpho')\n",
    "nltk.download('stopwords')\n",
    "\n",
    "\n",
    "# Treinando um tagger simples com mac_morpho\n",
    "train_data = mac_morpho.tagged_sents()\n",
    "#print(train_data)\n",
    "tagger = nltk.UnigramTagger(train_data)\n",
    "print(train_data)\n",
    "# StopWords\n",
    "stopwords_pt = set(stopwords.words('portuguese'))\n",
    "\n",
    "stemmer = RSLPStemmer()\n",
    "\n",
    "# to lower case\n",
    "df['texto_tratado'] = df['texto'].str.lower()\n",
    "\n",
    "for index, entry in enumerate(df['texto_tratado']):\n",
    "    tokens = nltk.word_tokenize(entry, language='portuguese') \n",
    "    tagged = tagger.tag(tokens)  \t\n",
    "    #print(tagged)\n",
    "    final_words = []\n",
    "    for word, tag in tagged:\n",
    "        if word not in stopwords_pt and word.isalpha():\n",
    "            final_words.append(stemmer.stem(word))\n",
    "\n",
    "    df.loc[index, 'texto_final_stem'] = ' '.join(final_words)\n"
   ]
  },
  {
   "cell_type": "code",
   "execution_count": 5,
   "id": "5116018f-9961-4507-b578-a4738f3abd82",
   "metadata": {},
   "outputs": [
    {
     "data": {
      "text/html": [
       "<div>\n",
       "<style scoped>\n",
       "    .dataframe tbody tr th:only-of-type {\n",
       "        vertical-align: middle;\n",
       "    }\n",
       "\n",
       "    .dataframe tbody tr th {\n",
       "        vertical-align: top;\n",
       "    }\n",
       "\n",
       "    .dataframe thead th {\n",
       "        text-align: right;\n",
       "    }\n",
       "</style>\n",
       "<table border=\"1\" class=\"dataframe\">\n",
       "  <thead>\n",
       "    <tr style=\"text-align: right;\">\n",
       "      <th></th>\n",
       "      <th>texto</th>\n",
       "      <th>classe</th>\n",
       "      <th>label</th>\n",
       "      <th>texto_tratado</th>\n",
       "      <th>texto_final_stem</th>\n",
       "    </tr>\n",
       "  </thead>\n",
       "  <tbody>\n",
       "    <tr>\n",
       "      <th>1000</th>\n",
       "      <td>Verificar saldo em conta conjunta</td>\n",
       "      <td>Consulta Saldo</td>\n",
       "      <td>1</td>\n",
       "      <td>verificar saldo em conta conjunta</td>\n",
       "      <td>verific sald cont conjunt</td>\n",
       "    </tr>\n",
       "    <tr>\n",
       "      <th>1001</th>\n",
       "      <td>Consultar saldo atualizado</td>\n",
       "      <td>Consulta Saldo</td>\n",
       "      <td>1</td>\n",
       "      <td>consultar saldo atualizado</td>\n",
       "      <td>consult sald atual</td>\n",
       "    </tr>\n",
       "    <tr>\n",
       "      <th>1002</th>\n",
       "      <td>Consultar saldo atualizado</td>\n",
       "      <td>Consulta Saldo</td>\n",
       "      <td>1</td>\n",
       "      <td>consultar saldo atualizado</td>\n",
       "      <td>consult sald atual</td>\n",
       "    </tr>\n",
       "    <tr>\n",
       "      <th>1003</th>\n",
       "      <td>Consultar quanto tenho no banco</td>\n",
       "      <td>Consulta Saldo</td>\n",
       "      <td>1</td>\n",
       "      <td>consultar quanto tenho no banco</td>\n",
       "      <td>consult quant banc</td>\n",
       "    </tr>\n",
       "    <tr>\n",
       "      <th>1004</th>\n",
       "      <td>Mostrar saldo bancário</td>\n",
       "      <td>Consulta Saldo</td>\n",
       "      <td>1</td>\n",
       "      <td>mostrar saldo bancário</td>\n",
       "      <td>mostr sald banc</td>\n",
       "    </tr>\n",
       "  </tbody>\n",
       "</table>\n",
       "</div>"
      ],
      "text/plain": [
       "                                  texto          classe  label  \\\n",
       "1000  Verificar saldo em conta conjunta  Consulta Saldo      1   \n",
       "1001         Consultar saldo atualizado  Consulta Saldo      1   \n",
       "1002         Consultar saldo atualizado  Consulta Saldo      1   \n",
       "1003    Consultar quanto tenho no banco  Consulta Saldo      1   \n",
       "1004             Mostrar saldo bancário  Consulta Saldo      1   \n",
       "\n",
       "                          texto_tratado           texto_final_stem  \n",
       "1000  verificar saldo em conta conjunta  verific sald cont conjunt  \n",
       "1001         consultar saldo atualizado         consult sald atual  \n",
       "1002         consultar saldo atualizado         consult sald atual  \n",
       "1003    consultar quanto tenho no banco         consult quant banc  \n",
       "1004             mostrar saldo bancário            mostr sald banc  "
      ]
     },
     "execution_count": 5,
     "metadata": {},
     "output_type": "execute_result"
    }
   ],
   "source": [
    "df[df['label'] == 1].head()"
   ]
  },
  {
   "cell_type": "code",
   "execution_count": 6,
   "id": "4e18301a-b22f-4f87-8d3c-81651ae5673e",
   "metadata": {},
   "outputs": [
    {
     "data": {
      "text/html": [
       "<div>\n",
       "<style scoped>\n",
       "    .dataframe tbody tr th:only-of-type {\n",
       "        vertical-align: middle;\n",
       "    }\n",
       "\n",
       "    .dataframe tbody tr th {\n",
       "        vertical-align: top;\n",
       "    }\n",
       "\n",
       "    .dataframe thead th {\n",
       "        text-align: right;\n",
       "    }\n",
       "</style>\n",
       "<table border=\"1\" class=\"dataframe\">\n",
       "  <thead>\n",
       "    <tr style=\"text-align: right;\">\n",
       "      <th></th>\n",
       "      <th>texto</th>\n",
       "      <th>classe</th>\n",
       "      <th>label</th>\n",
       "      <th>texto_tratado</th>\n",
       "      <th>texto_final_stem</th>\n",
       "    </tr>\n",
       "  </thead>\n",
       "  <tbody>\n",
       "    <tr>\n",
       "      <th>500</th>\n",
       "      <td>Pagar boleto no valor de R$ 449,52</td>\n",
       "      <td>Pagamento</td>\n",
       "      <td>3</td>\n",
       "      <td>pagar boleto no valor de r$ 449,52</td>\n",
       "      <td>pag bolet val r</td>\n",
       "    </tr>\n",
       "    <tr>\n",
       "      <th>501</th>\n",
       "      <td>Transferir R$ 3953,23 para a conta poupança</td>\n",
       "      <td>Pagamento</td>\n",
       "      <td>3</td>\n",
       "      <td>transferir r$ 3953,23 para a conta poupança</td>\n",
       "      <td>transfer r cont poupanç</td>\n",
       "    </tr>\n",
       "    <tr>\n",
       "      <th>502</th>\n",
       "      <td>Transferir R$ 1308,25 para Maria</td>\n",
       "      <td>Pagamento</td>\n",
       "      <td>3</td>\n",
       "      <td>transferir r$ 1308,25 para maria</td>\n",
       "      <td>transfer r mar</td>\n",
       "    </tr>\n",
       "    <tr>\n",
       "      <th>503</th>\n",
       "      <td>Realizar transferência de R$ 4727 para Pedro</td>\n",
       "      <td>Pagamento</td>\n",
       "      <td>3</td>\n",
       "      <td>realizar transferência de r$ 4727 para pedro</td>\n",
       "      <td>realiz transfer r pedr</td>\n",
       "    </tr>\n",
       "    <tr>\n",
       "      <th>504</th>\n",
       "      <td>Efetuar o pagamento da assinatura de R$ 4265,23</td>\n",
       "      <td>Pagamento</td>\n",
       "      <td>3</td>\n",
       "      <td>efetuar o pagamento da assinatura de r$ 4265,23</td>\n",
       "      <td>efetu pag assinat r</td>\n",
       "    </tr>\n",
       "  </tbody>\n",
       "</table>\n",
       "</div>"
      ],
      "text/plain": [
       "                                               texto     classe  label  \\\n",
       "500               Pagar boleto no valor de R$ 449,52  Pagamento      3   \n",
       "501      Transferir R$ 3953,23 para a conta poupança  Pagamento      3   \n",
       "502                 Transferir R$ 1308,25 para Maria  Pagamento      3   \n",
       "503     Realizar transferência de R$ 4727 para Pedro  Pagamento      3   \n",
       "504  Efetuar o pagamento da assinatura de R$ 4265,23  Pagamento      3   \n",
       "\n",
       "                                       texto_tratado         texto_final_stem  \n",
       "500               pagar boleto no valor de r$ 449,52          pag bolet val r  \n",
       "501      transferir r$ 3953,23 para a conta poupança  transfer r cont poupanç  \n",
       "502                 transferir r$ 1308,25 para maria           transfer r mar  \n",
       "503     realizar transferência de r$ 4727 para pedro   realiz transfer r pedr  \n",
       "504  efetuar o pagamento da assinatura de r$ 4265,23      efetu pag assinat r  "
      ]
     },
     "execution_count": 6,
     "metadata": {},
     "output_type": "execute_result"
    }
   ],
   "source": [
    "df[df['label'] == 3].head()"
   ]
  },
  {
   "cell_type": "code",
   "execution_count": 7,
   "id": "229c98bb-b42f-4b39-831e-954fb97928c4",
   "metadata": {},
   "outputs": [
    {
     "name": "stdout",
     "output_type": "stream",
     "text": [
      "(2000, 5)\n"
     ]
    },
    {
     "data": {
      "text/plain": [
       "(48, 5)"
      ]
     },
     "execution_count": 7,
     "metadata": {},
     "output_type": "execute_result"
    }
   ],
   "source": [
    "# Remove duplicates \n",
    "print(df.shape)\n",
    "df_stem = df.drop_duplicates(subset=['texto_final_stem'])\n",
    "df_stem.shape"
   ]
  },
  {
   "cell_type": "code",
   "execution_count": 8,
   "id": "cf882689-ea6b-4faf-8015-fb2b8c0970ec",
   "metadata": {},
   "outputs": [
    {
     "name": "stderr",
     "output_type": "stream",
     "text": [
      "/Users/felipemenezes/Codes/pythonEnvs/machine/lib/python3.11/site-packages/keras/src/layers/core/embedding.py:90: UserWarning: Argument `input_length` is deprecated. Just remove it.\n",
      "  warnings.warn(\n",
      "2025-09-21 17:24:12.064610: I metal_plugin/src/device/metal_device.cc:1154] Metal device set to: Apple M1 Pro\n",
      "2025-09-21 17:24:12.064654: I metal_plugin/src/device/metal_device.cc:296] systemMemory: 16.00 GB\n",
      "2025-09-21 17:24:12.064657: I metal_plugin/src/device/metal_device.cc:313] maxCacheSize: 5.33 GB\n",
      "WARNING: All log messages before absl::InitializeLog() is called are written to STDERR\n",
      "I0000 00:00:1758486252.064704 18123234 pluggable_device_factory.cc:305] Could not identify NUMA node of platform GPU ID 0, defaulting to 0. Your kernel may not have been built with NUMA support.\n",
      "I0000 00:00:1758486252.064756 18123234 pluggable_device_factory.cc:271] Created TensorFlow device (/job:localhost/replica:0/task:0/device:GPU:0 with 0 MB memory) -> physical PluggableDevice (device: 0, name: METAL, pci bus id: <undefined>)\n"
     ]
    },
    {
     "data": {
      "text/html": [
       "<pre style=\"white-space:pre;overflow-x:auto;line-height:normal;font-family:Menlo,'DejaVu Sans Mono',consolas,'Courier New',monospace\"><span style=\"font-weight: bold\">Model: \"sequential\"</span>\n",
       "</pre>\n"
      ],
      "text/plain": [
       "\u001b[1mModel: \"sequential\"\u001b[0m\n"
      ]
     },
     "metadata": {},
     "output_type": "display_data"
    },
    {
     "data": {
      "text/html": [
       "<pre style=\"white-space:pre;overflow-x:auto;line-height:normal;font-family:Menlo,'DejaVu Sans Mono',consolas,'Courier New',monospace\">┏━━━━━━━━━━━━━━━━━━━━━━━━━━━━━━━━━┳━━━━━━━━━━━━━━━━━━━━━━━━┳━━━━━━━━━━━━━━━┓\n",
       "┃<span style=\"font-weight: bold\"> Layer (type)                    </span>┃<span style=\"font-weight: bold\"> Output Shape           </span>┃<span style=\"font-weight: bold\">       Param # </span>┃\n",
       "┡━━━━━━━━━━━━━━━━━━━━━━━━━━━━━━━━━╇━━━━━━━━━━━━━━━━━━━━━━━━╇━━━━━━━━━━━━━━━┩\n",
       "│ embedding (<span style=\"color: #0087ff; text-decoration-color: #0087ff\">Embedding</span>)           │ (<span style=\"color: #00d7ff; text-decoration-color: #00d7ff\">None</span>, <span style=\"color: #00af00; text-decoration-color: #00af00\">5</span>, <span style=\"color: #00af00; text-decoration-color: #00af00\">40</span>)          │         <span style=\"color: #00af00; text-decoration-color: #00af00\">3,320</span> │\n",
       "├─────────────────────────────────┼────────────────────────┼───────────────┤\n",
       "│ bidirectional (<span style=\"color: #0087ff; text-decoration-color: #0087ff\">Bidirectional</span>)   │ (<span style=\"color: #00d7ff; text-decoration-color: #00d7ff\">None</span>, <span style=\"color: #00af00; text-decoration-color: #00af00\">64</span>)             │        <span style=\"color: #00af00; text-decoration-color: #00af00\">18,688</span> │\n",
       "├─────────────────────────────────┼────────────────────────┼───────────────┤\n",
       "│ dropout (<span style=\"color: #0087ff; text-decoration-color: #0087ff\">Dropout</span>)               │ (<span style=\"color: #00d7ff; text-decoration-color: #00d7ff\">None</span>, <span style=\"color: #00af00; text-decoration-color: #00af00\">64</span>)             │             <span style=\"color: #00af00; text-decoration-color: #00af00\">0</span> │\n",
       "├─────────────────────────────────┼────────────────────────┼───────────────┤\n",
       "│ dense (<span style=\"color: #0087ff; text-decoration-color: #0087ff\">Dense</span>)                   │ (<span style=\"color: #00d7ff; text-decoration-color: #00d7ff\">None</span>, <span style=\"color: #00af00; text-decoration-color: #00af00\">4</span>)              │           <span style=\"color: #00af00; text-decoration-color: #00af00\">260</span> │\n",
       "└─────────────────────────────────┴────────────────────────┴───────────────┘\n",
       "</pre>\n"
      ],
      "text/plain": [
       "┏━━━━━━━━━━━━━━━━━━━━━━━━━━━━━━━━━┳━━━━━━━━━━━━━━━━━━━━━━━━┳━━━━━━━━━━━━━━━┓\n",
       "┃\u001b[1m \u001b[0m\u001b[1mLayer (type)                   \u001b[0m\u001b[1m \u001b[0m┃\u001b[1m \u001b[0m\u001b[1mOutput Shape          \u001b[0m\u001b[1m \u001b[0m┃\u001b[1m \u001b[0m\u001b[1m      Param #\u001b[0m\u001b[1m \u001b[0m┃\n",
       "┡━━━━━━━━━━━━━━━━━━━━━━━━━━━━━━━━━╇━━━━━━━━━━━━━━━━━━━━━━━━╇━━━━━━━━━━━━━━━┩\n",
       "│ embedding (\u001b[38;5;33mEmbedding\u001b[0m)           │ (\u001b[38;5;45mNone\u001b[0m, \u001b[38;5;34m5\u001b[0m, \u001b[38;5;34m40\u001b[0m)          │         \u001b[38;5;34m3,320\u001b[0m │\n",
       "├─────────────────────────────────┼────────────────────────┼───────────────┤\n",
       "│ bidirectional (\u001b[38;5;33mBidirectional\u001b[0m)   │ (\u001b[38;5;45mNone\u001b[0m, \u001b[38;5;34m64\u001b[0m)             │        \u001b[38;5;34m18,688\u001b[0m │\n",
       "├─────────────────────────────────┼────────────────────────┼───────────────┤\n",
       "│ dropout (\u001b[38;5;33mDropout\u001b[0m)               │ (\u001b[38;5;45mNone\u001b[0m, \u001b[38;5;34m64\u001b[0m)             │             \u001b[38;5;34m0\u001b[0m │\n",
       "├─────────────────────────────────┼────────────────────────┼───────────────┤\n",
       "│ dense (\u001b[38;5;33mDense\u001b[0m)                   │ (\u001b[38;5;45mNone\u001b[0m, \u001b[38;5;34m4\u001b[0m)              │           \u001b[38;5;34m260\u001b[0m │\n",
       "└─────────────────────────────────┴────────────────────────┴───────────────┘\n"
      ]
     },
     "metadata": {},
     "output_type": "display_data"
    },
    {
     "data": {
      "text/html": [
       "<pre style=\"white-space:pre;overflow-x:auto;line-height:normal;font-family:Menlo,'DejaVu Sans Mono',consolas,'Courier New',monospace\"><span style=\"font-weight: bold\"> Total params: </span><span style=\"color: #00af00; text-decoration-color: #00af00\">22,268</span> (86.98 KB)\n",
       "</pre>\n"
      ],
      "text/plain": [
       "\u001b[1m Total params: \u001b[0m\u001b[38;5;34m22,268\u001b[0m (86.98 KB)\n"
      ]
     },
     "metadata": {},
     "output_type": "display_data"
    },
    {
     "data": {
      "text/html": [
       "<pre style=\"white-space:pre;overflow-x:auto;line-height:normal;font-family:Menlo,'DejaVu Sans Mono',consolas,'Courier New',monospace\"><span style=\"font-weight: bold\"> Trainable params: </span><span style=\"color: #00af00; text-decoration-color: #00af00\">22,268</span> (86.98 KB)\n",
       "</pre>\n"
      ],
      "text/plain": [
       "\u001b[1m Trainable params: \u001b[0m\u001b[38;5;34m22,268\u001b[0m (86.98 KB)\n"
      ]
     },
     "metadata": {},
     "output_type": "display_data"
    },
    {
     "data": {
      "text/html": [
       "<pre style=\"white-space:pre;overflow-x:auto;line-height:normal;font-family:Menlo,'DejaVu Sans Mono',consolas,'Courier New',monospace\"><span style=\"font-weight: bold\"> Non-trainable params: </span><span style=\"color: #00af00; text-decoration-color: #00af00\">0</span> (0.00 B)\n",
       "</pre>\n"
      ],
      "text/plain": [
       "\u001b[1m Non-trainable params: \u001b[0m\u001b[38;5;34m0\u001b[0m (0.00 B)\n"
      ]
     },
     "metadata": {},
     "output_type": "display_data"
    },
    {
     "name": "stdout",
     "output_type": "stream",
     "text": [
      "None\n",
      "Epoch 1/15\n"
     ]
    },
    {
     "name": "stderr",
     "output_type": "stream",
     "text": [
      "2025-09-21 17:24:12.700786: I tensorflow/core/grappler/optimizers/custom_graph_optimizer_registry.cc:117] Plugin optimizer for device_type GPU is enabled.\n"
     ]
    },
    {
     "name": "stdout",
     "output_type": "stream",
     "text": [
      "\u001b[1m117/117\u001b[0m \u001b[32m━━━━━━━━━━━━━━━━━━━━\u001b[0m\u001b[37m\u001b[0m \u001b[1m6s\u001b[0m 40ms/step - accuracy: 0.5997 - loss: 1.1763 - val_accuracy: 1.0000 - val_loss: 0.0816\n",
      "Epoch 2/15\n",
      "\u001b[1m117/117\u001b[0m \u001b[32m━━━━━━━━━━━━━━━━━━━━\u001b[0m\u001b[37m\u001b[0m \u001b[1m4s\u001b[0m 37ms/step - accuracy: 0.9962 - loss: 0.0482 - val_accuracy: 1.0000 - val_loss: 0.0036\n",
      "Epoch 3/15\n",
      "\u001b[1m117/117\u001b[0m \u001b[32m━━━━━━━━━━━━━━━━━━━━\u001b[0m\u001b[37m\u001b[0m \u001b[1m4s\u001b[0m 37ms/step - accuracy: 1.0000 - loss: 0.0070 - val_accuracy: 1.0000 - val_loss: 0.0012\n",
      "Epoch 4/15\n",
      "\u001b[1m117/117\u001b[0m \u001b[32m━━━━━━━━━━━━━━━━━━━━\u001b[0m\u001b[37m\u001b[0m \u001b[1m4s\u001b[0m 37ms/step - accuracy: 1.0000 - loss: 0.0034 - val_accuracy: 1.0000 - val_loss: 6.0694e-04\n",
      "Epoch 5/15\n",
      "\u001b[1m117/117\u001b[0m \u001b[32m━━━━━━━━━━━━━━━━━━━━\u001b[0m\u001b[37m\u001b[0m \u001b[1m4s\u001b[0m 37ms/step - accuracy: 1.0000 - loss: 0.0022 - val_accuracy: 1.0000 - val_loss: 3.4806e-04\n",
      "Epoch 6/15\n",
      "\u001b[1m117/117\u001b[0m \u001b[32m━━━━━━━━━━━━━━━━━━━━\u001b[0m\u001b[37m\u001b[0m \u001b[1m4s\u001b[0m 36ms/step - accuracy: 1.0000 - loss: 0.0017 - val_accuracy: 1.0000 - val_loss: 2.1219e-04\n",
      "Epoch 7/15\n",
      "\u001b[1m117/117\u001b[0m \u001b[32m━━━━━━━━━━━━━━━━━━━━\u001b[0m\u001b[37m\u001b[0m \u001b[1m4s\u001b[0m 37ms/step - accuracy: 1.0000 - loss: 8.4754e-04 - val_accuracy: 1.0000 - val_loss: 1.4656e-04\n",
      "Epoch 8/15\n",
      "\u001b[1m117/117\u001b[0m \u001b[32m━━━━━━━━━━━━━━━━━━━━\u001b[0m\u001b[37m\u001b[0m \u001b[1m4s\u001b[0m 37ms/step - accuracy: 1.0000 - loss: 7.6096e-04 - val_accuracy: 1.0000 - val_loss: 1.3774e-04\n",
      "Epoch 9/15\n",
      "\u001b[1m117/117\u001b[0m \u001b[32m━━━━━━━━━━━━━━━━━━━━\u001b[0m\u001b[37m\u001b[0m \u001b[1m4s\u001b[0m 36ms/step - accuracy: 1.0000 - loss: 7.6796e-04 - val_accuracy: 1.0000 - val_loss: 8.4990e-05\n",
      "Epoch 10/15\n",
      "\u001b[1m117/117\u001b[0m \u001b[32m━━━━━━━━━━━━━━━━━━━━\u001b[0m\u001b[37m\u001b[0m \u001b[1m4s\u001b[0m 37ms/step - accuracy: 1.0000 - loss: 4.5464e-04 - val_accuracy: 1.0000 - val_loss: 6.4414e-05\n",
      "Epoch 11/15\n",
      "\u001b[1m117/117\u001b[0m \u001b[32m━━━━━━━━━━━━━━━━━━━━\u001b[0m\u001b[37m\u001b[0m \u001b[1m4s\u001b[0m 37ms/step - accuracy: 1.0000 - loss: 5.3175e-04 - val_accuracy: 1.0000 - val_loss: 4.9099e-05\n",
      "Epoch 12/15\n",
      "\u001b[1m117/117\u001b[0m \u001b[32m━━━━━━━━━━━━━━━━━━━━\u001b[0m\u001b[37m\u001b[0m \u001b[1m4s\u001b[0m 38ms/step - accuracy: 1.0000 - loss: 4.1159e-04 - val_accuracy: 1.0000 - val_loss: 3.9547e-05\n",
      "Epoch 13/15\n",
      "\u001b[1m117/117\u001b[0m \u001b[32m━━━━━━━━━━━━━━━━━━━━\u001b[0m\u001b[37m\u001b[0m \u001b[1m4s\u001b[0m 37ms/step - accuracy: 1.0000 - loss: 4.8194e-04 - val_accuracy: 1.0000 - val_loss: 3.3042e-05\n",
      "Epoch 14/15\n",
      "\u001b[1m117/117\u001b[0m \u001b[32m━━━━━━━━━━━━━━━━━━━━\u001b[0m\u001b[37m\u001b[0m \u001b[1m4s\u001b[0m 38ms/step - accuracy: 1.0000 - loss: 2.1310e-04 - val_accuracy: 1.0000 - val_loss: 2.6956e-05\n",
      "Epoch 15/15\n",
      "\u001b[1m117/117\u001b[0m \u001b[32m━━━━━━━━━━━━━━━━━━━━\u001b[0m\u001b[37m\u001b[0m \u001b[1m4s\u001b[0m 36ms/step - accuracy: 1.0000 - loss: 3.3492e-04 - val_accuracy: 1.0000 - val_loss: 2.2455e-05\n"
     ]
    },
    {
     "data": {
      "text/plain": [
       "<keras.src.callbacks.history.History at 0x31cc5f5d0>"
      ]
     },
     "execution_count": 8,
     "metadata": {},
     "output_type": "execute_result"
    }
   ],
   "source": [
    "from tensorflow.keras.callbacks import EarlyStopping, ReduceLROnPlateau\n",
    "es = EarlyStopping(monitor='val_loss', patience=3, restore_best_weights=True)\n",
    "rlr = ReduceLROnPlateau(monitor='val_loss', factor=0.5, patience=2)\n",
    "\n",
    "# ===== 2. Tokenização =====\n",
    "vocab_size = 5000\n",
    "tokenizer2 = Tokenizer(num_words=vocab_size, oov_token=\"<OOV>\")\n",
    "tokenizer2.fit_on_texts(df[\"texto_final_stem\"])\n",
    "sequences = tokenizer2.texts_to_sequences(df[\"texto_final_stem\"])\n",
    "#max_len = max(len(s) for s in sequences)  # tamanho máximo das frases\n",
    "max_len = int(np.percentile([len(s) for s in sequences], 95))\n",
    "X = pad_sequences(sequences, maxlen=max_len, padding='post')\n",
    "y = df[\"label\"].values\n",
    "#print(y)\n",
    "\n",
    "# Split treino/teste\n",
    "X_train, X_test, y_train, y_test = train_test_split(X, y, test_size=0.3, random_state=42)\n",
    "\n",
    "# Class weights para balancear\n",
    "class_weights = compute_class_weight(\n",
    "    class_weight='balanced',\n",
    "    classes=np.unique(y_train),\n",
    "    y=y_train\n",
    ")\n",
    "class_weights_dict = dict(enumerate(class_weights))\n",
    "\n",
    "# ===== Modelo LSTM =====\n",
    "voc_size = len(tokenizer2.word_index) + 1\n",
    "embedding_vector_features = 40 #20\n",
    "\n",
    "model = Sequential()\n",
    "model.add(Embedding(voc_size, embedding_vector_features, input_length=max_len))\n",
    "model.add(Bidirectional(LSTM(32)))\n",
    "model.add(Dropout(0.5))\n",
    "model.add(Dense(len(label_encoder.classes_), activation='softmax'))\n",
    "\n",
    "model.compile(loss='sparse_categorical_crossentropy', optimizer='adam', metrics=['accuracy'])\n",
    "model.build(input_shape=(None, max_len))\n",
    "print(model.summary())\n",
    "\n",
    "# ===== Treino =====\n",
    "model.fit(\n",
    "    X_train, y_train,\n",
    "    validation_data=(X_test, y_test),\n",
    "    epochs=15,\n",
    "    batch_size=12\n",
    ")"
   ]
  },
  {
   "cell_type": "code",
   "execution_count": 9,
   "id": "119e14f5-be21-42d6-961a-dad9cf236959",
   "metadata": {},
   "outputs": [
    {
     "name": "stdout",
     "output_type": "stream",
     "text": [
      "\u001b[1m19/19\u001b[0m \u001b[32m━━━━━━━━━━━━━━━━━━━━\u001b[0m\u001b[37m\u001b[0m \u001b[1m1s\u001b[0m 23ms/step - accuracy: 1.0000 - loss: 2.2652e-05\n",
      "\n",
      "Acurácia no teste: 1.0000\n"
     ]
    }
   ],
   "source": [
    "\n",
    "# ===== 7. Avaliação =====\n",
    "loss, acc = model.evaluate(X_test, y_test)\n",
    "print(f\"\\nAcurácia no teste: {acc:.4f}\")\n"
   ]
  },
  {
   "cell_type": "code",
   "execution_count": 10,
   "id": "e7aca202-66c0-4685-92c0-5ed19164fe7a",
   "metadata": {},
   "outputs": [
    {
     "name": "stdout",
     "output_type": "stream",
     "text": [
      "['consult', 'sald']\n",
      "\u001b[1m1/1\u001b[0m \u001b[32m━━━━━━━━━━━━━━━━━━━━\u001b[0m\u001b[37m\u001b[0m \u001b[1m0s\u001b[0m 155ms/step\n",
      "[3.7149816e-06 9.9998939e-01 5.9182257e-06 1.0127294e-06]\n",
      "0.9999894\n",
      "\n",
      "Frase: ['consulte', 'meu', 'saldo']\n",
      "Classe prevista: ['Consulta Saldo']\n",
      "Probabilidade: 0.9999894\n"
     ]
    }
   ],
   "source": [
    "# ===== 8. Testando previsão =====\n",
    "nova_frase = [\"consulte meu saldo\".lower()]\n",
    "nova_frase = [word_tokenize(entry, language='portuguese') for entry in nova_frase]\n",
    "\n",
    "tagged = tagger.tag(nova_frase[0]) \n",
    "final_words = []\n",
    "for word, tag in tagged:\n",
    "        if word not in stopwords_pt and word.isalpha():\n",
    "            final_words.append(stemmer.stem(word))\n",
    "\n",
    "print(final_words)\n",
    "\n",
    "seq = tokenizer2.texts_to_sequences([final_words])\n",
    "padded = pad_sequences(seq, maxlen=max_len, padding='post')\n",
    "\n",
    "# Faz predição\n",
    "pred = model.predict(padded)[0] \n",
    "\n",
    "print(pred)\n",
    "\n",
    "# Obtém índice da classe com maior probabilidade\n",
    "classe_idx = np.argmax(pred)\n",
    "prob = pred[classe_idx]\n",
    "\n",
    "print(prob)\n",
    "\n",
    "print(\"\\nFrase:\", nova_frase[0])\n",
    "print(\"Classe prevista:\", label_encoder.inverse_transform([classe_idx]))\n",
    "print(\"Probabilidade:\", prob)"
   ]
  },
  {
   "cell_type": "code",
   "execution_count": 11,
   "id": "e4374076-7982-4ae8-8416-66b0233d2fd1",
   "metadata": {},
   "outputs": [],
   "source": [
    "\n",
    "# ==== Dataset de teste ====\n",
    "dataset2 = [\n",
    "    (\"Pagar conta de luz\", None),\n",
    "    (\"Trasferir R$5\", None),\n",
    "    (\"Informe meu saldo\", None),\n",
    "    (\"Cobra dez reais\", None),\n",
    "    (\"me diga o meu saldo\", None),\n",
    "    (\"passe um valor de R$50,00\", None),\n",
    "    (\"transfirir R$3,99\", None)\n",
    "]\n",
    "dfSample = pd.DataFrame(dataset2, columns=[\"texto\", \"classe_pred\"])\n",
    "\n"
   ]
  },
  {
   "cell_type": "code",
   "execution_count": 12,
   "id": "9ad08097-e128-4739-8517-fde762e19587",
   "metadata": {},
   "outputs": [],
   "source": [
    "def prever_classe(texto):\n",
    "    frase_proc = word_tokenize(texto.lower(), language='portuguese')\n",
    "    tagged = tagger.tag(frase_proc)\n",
    "    \n",
    "    final_words = [\n",
    "        stemmer.stem(word) \n",
    "        for word, tag in tagged \n",
    "        if word not in stopwords_pt and word.isalpha()\n",
    "    ]\n",
    "    \n",
    "    # Sequência → padding\n",
    "    seq = tokenizer2.texts_to_sequences([final_words])\n",
    "    padded = pad_sequences(seq, maxlen=max_len, padding='post')\n",
    "    \n",
    "    # Predição\n",
    "    pred = model.predict(padded, verbose=0)[0]\n",
    "    classe_idx = np.argmax(pred)\n",
    "    prob = pred[classe_idx]\n",
    "    classe = label_encoder.inverse_transform([classe_idx])[0]\n",
    "    return classe, prob\n"
   ]
  },
  {
   "cell_type": "code",
   "execution_count": 13,
   "id": "59cf2f3f-8895-4863-b9a6-a50d61d32037",
   "metadata": {},
   "outputs": [
    {
     "name": "stdout",
     "output_type": "stream",
     "text": [
      "                       texto     classe_pred  probabilidade\n",
      "0         Pagar conta de luz       Pagamento       0.965173\n",
      "1              Trasferir R$5           Outro       0.878927\n",
      "2          Informe meu saldo  Consulta Saldo       0.999966\n",
      "3            Cobra dez reais        Cobrança       0.903256\n",
      "4        me diga o meu saldo  Consulta Saldo       0.999966\n",
      "5  passe um valor de R$50,00        Cobrança       0.999962\n",
      "6          transfirir R$3,99           Outro       0.878927\n"
     ]
    }
   ],
   "source": [
    "# ==== Preencher previsões ====\n",
    "dfSample[\"classe_pred\"] = dfSample[\"texto\"].apply(\n",
    "    lambda x: prever_classe(x)[0]\n",
    ")\n",
    "dfSample[\"probabilidade\"] = dfSample[\"texto\"].apply(\n",
    "    lambda x: prever_classe(x)[1]\n",
    ")\n",
    "\n",
    "print(dfSample)"
   ]
  },
  {
   "cell_type": "markdown",
   "id": "f26a0e0d-b0cd-4234-8a13-f63d7f1301a9",
   "metadata": {},
   "source": [
    "## Lemmatização "
   ]
  },
  {
   "cell_type": "code",
   "execution_count": 14,
   "id": "e0185912-5227-4a8b-a6e9-56a8152b8627",
   "metadata": {},
   "outputs": [],
   "source": [
    "from nltk.stem import WordNetLemmatizer\n",
    "# Lemmatization \n",
    "lemmatizer = WordNetLemmatizer()\n",
    "tag_map = {\n",
    "    \"N\": \"n\", \"NPROP\": \"n\", \"NUM\": \"n\", \"ART\": \"n\",\n",
    "    \"ADJ\": \"a\", \"PROADJ\": \"a\",\n",
    "    \"V\": \"v\", \"PCP\": \"v\",\n",
    "    \"ADV\": \"r\", \"ADV-KS\": \"r\"\n",
    "}\n",
    "for index, entry in enumerate(df['texto_tratado']):\n",
    "    tokens = nltk.word_tokenize(entry, language='portuguese') \n",
    "    tagged = tagger.tag(tokens)  \t\n",
    "    final_words = []\n",
    "    for word, tag in tagged:\n",
    "        if word not in stopwords_pt and word.isalpha():\n",
    "            wn_pos = tag_map.get(tag, \"n\")  # default \"n\" (substantivo)\n",
    "            lemma = lemmatizer.lemmatize(word, wn_pos)\n",
    "            final_words.append(lemma.lower())\n",
    " \n",
    "    df.loc[index, 'texto_final_lemm'] = ' '.join(final_words)"
   ]
  },
  {
   "cell_type": "code",
   "execution_count": 15,
   "id": "771dd373-af53-4a85-98df-4736c79480d3",
   "metadata": {},
   "outputs": [
    {
     "name": "stderr",
     "output_type": "stream",
     "text": [
      "/Users/felipemenezes/Codes/pythonEnvs/machine/lib/python3.11/site-packages/keras/src/layers/core/embedding.py:90: UserWarning: Argument `input_length` is deprecated. Just remove it.\n",
      "  warnings.warn(\n"
     ]
    },
    {
     "data": {
      "text/html": [
       "<pre style=\"white-space:pre;overflow-x:auto;line-height:normal;font-family:Menlo,'DejaVu Sans Mono',consolas,'Courier New',monospace\"><span style=\"font-weight: bold\">Model: \"sequential_1\"</span>\n",
       "</pre>\n"
      ],
      "text/plain": [
       "\u001b[1mModel: \"sequential_1\"\u001b[0m\n"
      ]
     },
     "metadata": {},
     "output_type": "display_data"
    },
    {
     "data": {
      "text/html": [
       "<pre style=\"white-space:pre;overflow-x:auto;line-height:normal;font-family:Menlo,'DejaVu Sans Mono',consolas,'Courier New',monospace\">┏━━━━━━━━━━━━━━━━━━━━━━━━━━━━━━━━━┳━━━━━━━━━━━━━━━━━━━━━━━━┳━━━━━━━━━━━━━━━┓\n",
       "┃<span style=\"font-weight: bold\"> Layer (type)                    </span>┃<span style=\"font-weight: bold\"> Output Shape           </span>┃<span style=\"font-weight: bold\">       Param # </span>┃\n",
       "┡━━━━━━━━━━━━━━━━━━━━━━━━━━━━━━━━━╇━━━━━━━━━━━━━━━━━━━━━━━━╇━━━━━━━━━━━━━━━┩\n",
       "│ embedding_1 (<span style=\"color: #0087ff; text-decoration-color: #0087ff\">Embedding</span>)         │ (<span style=\"color: #00d7ff; text-decoration-color: #00d7ff\">None</span>, <span style=\"color: #00af00; text-decoration-color: #00af00\">5</span>, <span style=\"color: #00af00; text-decoration-color: #00af00\">20</span>)          │         <span style=\"color: #00af00; text-decoration-color: #00af00\">1,820</span> │\n",
       "├─────────────────────────────────┼────────────────────────┼───────────────┤\n",
       "│ bidirectional_1 (<span style=\"color: #0087ff; text-decoration-color: #0087ff\">Bidirectional</span>) │ (<span style=\"color: #00d7ff; text-decoration-color: #00d7ff\">None</span>, <span style=\"color: #00af00; text-decoration-color: #00af00\">200</span>)            │        <span style=\"color: #00af00; text-decoration-color: #00af00\">96,800</span> │\n",
       "├─────────────────────────────────┼────────────────────────┼───────────────┤\n",
       "│ dropout_1 (<span style=\"color: #0087ff; text-decoration-color: #0087ff\">Dropout</span>)             │ (<span style=\"color: #00d7ff; text-decoration-color: #00d7ff\">None</span>, <span style=\"color: #00af00; text-decoration-color: #00af00\">200</span>)            │             <span style=\"color: #00af00; text-decoration-color: #00af00\">0</span> │\n",
       "├─────────────────────────────────┼────────────────────────┼───────────────┤\n",
       "│ dense_1 (<span style=\"color: #0087ff; text-decoration-color: #0087ff\">Dense</span>)                 │ (<span style=\"color: #00d7ff; text-decoration-color: #00d7ff\">None</span>, <span style=\"color: #00af00; text-decoration-color: #00af00\">4</span>)              │           <span style=\"color: #00af00; text-decoration-color: #00af00\">804</span> │\n",
       "└─────────────────────────────────┴────────────────────────┴───────────────┘\n",
       "</pre>\n"
      ],
      "text/plain": [
       "┏━━━━━━━━━━━━━━━━━━━━━━━━━━━━━━━━━┳━━━━━━━━━━━━━━━━━━━━━━━━┳━━━━━━━━━━━━━━━┓\n",
       "┃\u001b[1m \u001b[0m\u001b[1mLayer (type)                   \u001b[0m\u001b[1m \u001b[0m┃\u001b[1m \u001b[0m\u001b[1mOutput Shape          \u001b[0m\u001b[1m \u001b[0m┃\u001b[1m \u001b[0m\u001b[1m      Param #\u001b[0m\u001b[1m \u001b[0m┃\n",
       "┡━━━━━━━━━━━━━━━━━━━━━━━━━━━━━━━━━╇━━━━━━━━━━━━━━━━━━━━━━━━╇━━━━━━━━━━━━━━━┩\n",
       "│ embedding_1 (\u001b[38;5;33mEmbedding\u001b[0m)         │ (\u001b[38;5;45mNone\u001b[0m, \u001b[38;5;34m5\u001b[0m, \u001b[38;5;34m20\u001b[0m)          │         \u001b[38;5;34m1,820\u001b[0m │\n",
       "├─────────────────────────────────┼────────────────────────┼───────────────┤\n",
       "│ bidirectional_1 (\u001b[38;5;33mBidirectional\u001b[0m) │ (\u001b[38;5;45mNone\u001b[0m, \u001b[38;5;34m200\u001b[0m)            │        \u001b[38;5;34m96,800\u001b[0m │\n",
       "├─────────────────────────────────┼────────────────────────┼───────────────┤\n",
       "│ dropout_1 (\u001b[38;5;33mDropout\u001b[0m)             │ (\u001b[38;5;45mNone\u001b[0m, \u001b[38;5;34m200\u001b[0m)            │             \u001b[38;5;34m0\u001b[0m │\n",
       "├─────────────────────────────────┼────────────────────────┼───────────────┤\n",
       "│ dense_1 (\u001b[38;5;33mDense\u001b[0m)                 │ (\u001b[38;5;45mNone\u001b[0m, \u001b[38;5;34m4\u001b[0m)              │           \u001b[38;5;34m804\u001b[0m │\n",
       "└─────────────────────────────────┴────────────────────────┴───────────────┘\n"
      ]
     },
     "metadata": {},
     "output_type": "display_data"
    },
    {
     "data": {
      "text/html": [
       "<pre style=\"white-space:pre;overflow-x:auto;line-height:normal;font-family:Menlo,'DejaVu Sans Mono',consolas,'Courier New',monospace\"><span style=\"font-weight: bold\"> Total params: </span><span style=\"color: #00af00; text-decoration-color: #00af00\">99,424</span> (388.38 KB)\n",
       "</pre>\n"
      ],
      "text/plain": [
       "\u001b[1m Total params: \u001b[0m\u001b[38;5;34m99,424\u001b[0m (388.38 KB)\n"
      ]
     },
     "metadata": {},
     "output_type": "display_data"
    },
    {
     "data": {
      "text/html": [
       "<pre style=\"white-space:pre;overflow-x:auto;line-height:normal;font-family:Menlo,'DejaVu Sans Mono',consolas,'Courier New',monospace\"><span style=\"font-weight: bold\"> Trainable params: </span><span style=\"color: #00af00; text-decoration-color: #00af00\">99,424</span> (388.38 KB)\n",
       "</pre>\n"
      ],
      "text/plain": [
       "\u001b[1m Trainable params: \u001b[0m\u001b[38;5;34m99,424\u001b[0m (388.38 KB)\n"
      ]
     },
     "metadata": {},
     "output_type": "display_data"
    },
    {
     "data": {
      "text/html": [
       "<pre style=\"white-space:pre;overflow-x:auto;line-height:normal;font-family:Menlo,'DejaVu Sans Mono',consolas,'Courier New',monospace\"><span style=\"font-weight: bold\"> Non-trainable params: </span><span style=\"color: #00af00; text-decoration-color: #00af00\">0</span> (0.00 B)\n",
       "</pre>\n"
      ],
      "text/plain": [
       "\u001b[1m Non-trainable params: \u001b[0m\u001b[38;5;34m0\u001b[0m (0.00 B)\n"
      ]
     },
     "metadata": {},
     "output_type": "display_data"
    },
    {
     "name": "stdout",
     "output_type": "stream",
     "text": [
      "None\n",
      "Epoch 1/15\n",
      "\u001b[1m117/117\u001b[0m \u001b[32m━━━━━━━━━━━━━━━━━━━━\u001b[0m\u001b[37m\u001b[0m \u001b[1m6s\u001b[0m 40ms/step - accuracy: 0.5055 - loss: 1.0810 - val_accuracy: 1.0000 - val_loss: 0.0197\n",
      "Epoch 2/15\n",
      "\u001b[1m117/117\u001b[0m \u001b[32m━━━━━━━━━━━━━━━━━━━━\u001b[0m\u001b[37m\u001b[0m \u001b[1m4s\u001b[0m 37ms/step - accuracy: 1.0000 - loss: 0.0088 - val_accuracy: 1.0000 - val_loss: 0.0014\n",
      "Epoch 3/15\n",
      "\u001b[1m117/117\u001b[0m \u001b[32m━━━━━━━━━━━━━━━━━━━━\u001b[0m\u001b[37m\u001b[0m \u001b[1m4s\u001b[0m 37ms/step - accuracy: 1.0000 - loss: 0.0016 - val_accuracy: 1.0000 - val_loss: 6.4280e-04\n",
      "Epoch 4/15\n",
      "\u001b[1m117/117\u001b[0m \u001b[32m━━━━━━━━━━━━━━━━━━━━\u001b[0m\u001b[37m\u001b[0m \u001b[1m4s\u001b[0m 37ms/step - accuracy: 1.0000 - loss: 8.1941e-04 - val_accuracy: 1.0000 - val_loss: 3.7972e-04\n",
      "Epoch 5/15\n",
      "\u001b[1m117/117\u001b[0m \u001b[32m━━━━━━━━━━━━━━━━━━━━\u001b[0m\u001b[37m\u001b[0m \u001b[1m4s\u001b[0m 37ms/step - accuracy: 1.0000 - loss: 5.1711e-04 - val_accuracy: 1.0000 - val_loss: 2.4157e-04\n",
      "Epoch 6/15\n",
      "\u001b[1m117/117\u001b[0m \u001b[32m━━━━━━━━━━━━━━━━━━━━\u001b[0m\u001b[37m\u001b[0m \u001b[1m4s\u001b[0m 36ms/step - accuracy: 1.0000 - loss: 3.5760e-04 - val_accuracy: 1.0000 - val_loss: 1.7058e-04\n",
      "Epoch 7/15\n",
      "\u001b[1m117/117\u001b[0m \u001b[32m━━━━━━━━━━━━━━━━━━━━\u001b[0m\u001b[37m\u001b[0m \u001b[1m4s\u001b[0m 36ms/step - accuracy: 1.0000 - loss: 2.6067e-04 - val_accuracy: 1.0000 - val_loss: 1.2789e-04\n",
      "Epoch 8/15\n",
      "\u001b[1m117/117\u001b[0m \u001b[32m━━━━━━━━━━━━━━━━━━━━\u001b[0m\u001b[37m\u001b[0m \u001b[1m4s\u001b[0m 36ms/step - accuracy: 1.0000 - loss: 2.0325e-04 - val_accuracy: 1.0000 - val_loss: 9.7834e-05\n",
      "Epoch 9/15\n",
      "\u001b[1m117/117\u001b[0m \u001b[32m━━━━━━━━━━━━━━━━━━━━\u001b[0m\u001b[37m\u001b[0m \u001b[1m4s\u001b[0m 36ms/step - accuracy: 1.0000 - loss: 1.7918e-04 - val_accuracy: 1.0000 - val_loss: 7.8784e-05\n",
      "Epoch 10/15\n",
      "\u001b[1m117/117\u001b[0m \u001b[32m━━━━━━━━━━━━━━━━━━━━\u001b[0m\u001b[37m\u001b[0m \u001b[1m4s\u001b[0m 36ms/step - accuracy: 1.0000 - loss: 1.3627e-04 - val_accuracy: 1.0000 - val_loss: 6.3710e-05\n",
      "Epoch 11/15\n",
      "\u001b[1m117/117\u001b[0m \u001b[32m━━━━━━━━━━━━━━━━━━━━\u001b[0m\u001b[37m\u001b[0m \u001b[1m4s\u001b[0m 36ms/step - accuracy: 1.0000 - loss: 9.7597e-05 - val_accuracy: 1.0000 - val_loss: 5.2153e-05\n",
      "Epoch 12/15\n",
      "\u001b[1m117/117\u001b[0m \u001b[32m━━━━━━━━━━━━━━━━━━━━\u001b[0m\u001b[37m\u001b[0m \u001b[1m4s\u001b[0m 36ms/step - accuracy: 1.0000 - loss: 9.5637e-05 - val_accuracy: 1.0000 - val_loss: 4.4467e-05\n",
      "Epoch 13/15\n",
      "\u001b[1m117/117\u001b[0m \u001b[32m━━━━━━━━━━━━━━━━━━━━\u001b[0m\u001b[37m\u001b[0m \u001b[1m4s\u001b[0m 37ms/step - accuracy: 1.0000 - loss: 7.0313e-05 - val_accuracy: 1.0000 - val_loss: 3.7329e-05\n",
      "Epoch 14/15\n",
      "\u001b[1m117/117\u001b[0m \u001b[32m━━━━━━━━━━━━━━━━━━━━\u001b[0m\u001b[37m\u001b[0m \u001b[1m4s\u001b[0m 36ms/step - accuracy: 1.0000 - loss: 7.3106e-05 - val_accuracy: 1.0000 - val_loss: 3.1740e-05\n",
      "Epoch 15/15\n",
      "\u001b[1m117/117\u001b[0m \u001b[32m━━━━━━━━━━━━━━━━━━━━\u001b[0m\u001b[37m\u001b[0m \u001b[1m4s\u001b[0m 36ms/step - accuracy: 1.0000 - loss: 5.5667e-05 - val_accuracy: 1.0000 - val_loss: 2.7542e-05\n"
     ]
    },
    {
     "data": {
      "text/plain": [
       "<keras.src.callbacks.history.History at 0x3695ebb90>"
      ]
     },
     "execution_count": 15,
     "metadata": {},
     "output_type": "execute_result"
    }
   ],
   "source": [
    "# ===== Tokenização para texto_final_lemm =====\n",
    "tokenizer_lemm = Tokenizer(num_words=vocab_size, oov_token=\"<OOV>\")\n",
    "tokenizer_lemm.fit_on_texts(df[\"texto_final_lemm\"])\n",
    "\n",
    "sequences_lemm = tokenizer_lemm.texts_to_sequences(df[\"texto_final_lemm\"])\n",
    "max_len_lemm = int(np.percentile([len(s) for s in sequences_lemm], 95))\n",
    "\n",
    "X_lemm = pad_sequences(sequences_lemm, maxlen=max_len_lemm, padding='post')\n",
    "y_lemm = df[\"label\"].values\n",
    "\n",
    "# ===== Split treino/teste =====\n",
    "X_train_lemm, X_test_lemm, y_train_lemm, y_test_lemm = train_test_split(\n",
    "    X_lemm, y_lemm, test_size=0.3, random_state=42\n",
    ")\n",
    "\n",
    "# ===== Class weights =====\n",
    "class_weights_lemm = compute_class_weight(\n",
    "    class_weight='balanced',\n",
    "    classes=np.unique(y_train_lemm),\n",
    "    y=y_train_lemm\n",
    ")\n",
    "class_weights_dict_lemm = dict(enumerate(class_weights_lemm))\n",
    "\n",
    "# ===== Modelo LSTM =====\n",
    "voc_size_lemm = len(tokenizer_lemm.word_index) + 1\n",
    "embedding_vector_features_lemm = 20\n",
    "\n",
    "model_lemm = Sequential()\n",
    "model_lemm.add(Embedding(voc_size_lemm, embedding_vector_features_lemm, input_length=max_len_lemm))\n",
    "model_lemm.add(Bidirectional(LSTM(100)))\n",
    "model_lemm.add(Dropout(0.3))\n",
    "model_lemm.add(Dense(len(label_encoder.classes_), activation='softmax'))\n",
    "\n",
    "model_lemm.compile(loss='sparse_categorical_crossentropy', optimizer='adam', metrics=['accuracy'])\n",
    "model_lemm.build(input_shape=(None, max_len_lemm))\n",
    "print(model_lemm.summary())\n",
    "\n",
    "# ===== Treino =====\n",
    "model_lemm.fit(\n",
    "    X_train_lemm, y_train_lemm,\n",
    "    validation_data=(X_test_lemm, y_test_lemm),\n",
    "    epochs=15,\n",
    "    batch_size=12,\n",
    "    #class_weight=class_weights_dict_lemm\n",
    ")"
   ]
  },
  {
   "cell_type": "code",
   "execution_count": 16,
   "id": "87b05799-8177-4171-a6f8-7ae56f4ff71b",
   "metadata": {},
   "outputs": [],
   "source": [
    "def prever_classe_lemm(texto):\n",
    "    # Tokeniza\n",
    "    frase_proc = nltk.word_tokenize(texto.lower(), language='portuguese')\n",
    "    tagged = tagger.tag(frase_proc)\n",
    "    lemmatizer = WordNetLemmatizer()\n",
    "    tag_map = {\n",
    "        \"N\": \"n\", \"NPROP\": \"n\", \"NUM\": \"n\", \"ART\": \"n\",\n",
    "        \"ADJ\": \"a\", \"PROADJ\": \"a\",\n",
    "        \"V\": \"v\", \"PCP\": \"v\",\n",
    "        \"ADV\": \"r\", \"ADV-KS\": \"r\"\n",
    "    }\n",
    "    # Aplica lematização\n",
    "    final_words_lemm = []\n",
    "    for word, tag in tagged:\n",
    "        if word not in stopwords_pt and word.isalpha():\n",
    "            wn_pos = tag_map.get(tag, \"n\")  # default \"n\" (substantivo)\n",
    "            lemma = lemmatizer.lemmatize(word, wn_pos)\n",
    "            final_words.append(lemma.lower())\n",
    "\n",
    "    # Sequência → padding (agora com tokenizer3 e max_len_lemm)\n",
    "    seq = tokenizer_lemm.texts_to_sequences([final_words_lemm])\n",
    "    padded = pad_sequences(seq, maxlen=max_len_lemm, padding='post')\n",
    "\n",
    "    # Predição\n",
    "    pred = model_lemm.predict(padded, verbose=0)[0]\n",
    "    classe_idx = np.argmax(pred)\n",
    "    prob = pred[classe_idx]\n",
    "    classe = label_encoder.inverse_transform([classe_idx])[0]\n",
    "\n",
    "    return classe, prob"
   ]
  },
  {
   "cell_type": "code",
   "execution_count": 17,
   "id": "e34c7730-33b3-4fdd-a384-0117440ec064",
   "metadata": {},
   "outputs": [
    {
     "name": "stdout",
     "output_type": "stream",
     "text": [
      "                       texto     classe_pred  probabilidade classe_pred_lemm  \\\n",
      "0         Pagar conta de luz       Pagamento       0.965173            Outro   \n",
      "1              Trasferir R$5           Outro       0.878927            Outro   \n",
      "2          Informe meu saldo  Consulta Saldo       0.999966            Outro   \n",
      "3            Cobra dez reais        Cobrança       0.903256            Outro   \n",
      "4        me diga o meu saldo  Consulta Saldo       0.999966            Outro   \n",
      "5  passe um valor de R$50,00        Cobrança       0.999962            Outro   \n",
      "6          transfirir R$3,99           Outro       0.878927            Outro   \n",
      "\n",
      "   probabilidade_lemm  \n",
      "0            0.995803  \n",
      "1            0.995803  \n",
      "2            0.995803  \n",
      "3            0.995803  \n",
      "4            0.995803  \n",
      "5            0.995803  \n",
      "6            0.995803  \n"
     ]
    }
   ],
   "source": [
    "# ==== Preencher previsões ====\n",
    "dfSample[\"classe_pred_lemm\"] = dfSample[\"texto\"].apply(\n",
    "    lambda x: prever_classe_lemm(x)[0]\n",
    ")\n",
    "dfSample[\"probabilidade_lemm\"] = dfSample[\"texto\"].apply(\n",
    "    lambda x: prever_classe_lemm(x)[1]\n",
    ")\n",
    "\n",
    "print(dfSample)"
   ]
  },
  {
   "cell_type": "markdown",
   "id": "3450e527-a8d9-4a94-bdd0-37919881847f",
   "metadata": {},
   "source": [
    "## Confusion Matrix"
   ]
  },
  {
   "cell_type": "code",
   "execution_count": 18,
   "id": "9498fedd-1d43-4b52-b787-0c12f1e68bd8",
   "metadata": {},
   "outputs": [
    {
     "name": "stdout",
     "output_type": "stream",
     "text": [
      "\u001b[1m19/19\u001b[0m \u001b[32m━━━━━━━━━━━━━━━━━━━━\u001b[0m\u001b[37m\u001b[0m \u001b[1m0s\u001b[0m 17ms/step\n"
     ]
    }
   ],
   "source": [
    "y_pred1=np.argmax(model.predict(X_test), axis=-1)"
   ]
  },
  {
   "cell_type": "code",
   "execution_count": 19,
   "id": "9affbf7d-6d94-40d0-9a4b-065bca9aa519",
   "metadata": {},
   "outputs": [
    {
     "data": {
      "text/plain": [
       "1.0"
      ]
     },
     "execution_count": 19,
     "metadata": {},
     "output_type": "execute_result"
    }
   ],
   "source": [
    "from sklearn.metrics import accuracy_score\n",
    "accuracy_score(y_test,y_pred1)"
   ]
  },
  {
   "cell_type": "code",
   "execution_count": 20,
   "id": "899f974f-fb9a-4769-aab1-13aa844b31ff",
   "metadata": {},
   "outputs": [
    {
     "data": {
      "text/plain": [
       "(<Figure size 500x500 with 1 Axes>,\n",
       " <Axes: xlabel='predicted label', ylabel='true label'>)"
      ]
     },
     "execution_count": 20,
     "metadata": {},
     "output_type": "execute_result"
    },
    {
     "data": {
      "image/png": "[encoded data removed]",
      "text/plain": [
       "<Figure size 500x500 with 1 Axes>"
      ]
     },
     "metadata": {},
     "output_type": "display_data"
    }
   ],
   "source": [
    "from sklearn.metrics import confusion_matrix\n",
    "from mlxtend.plotting import plot_confusion_matrix\n",
    "\n",
    "cm= confusion_matrix(y_test,y_pred1)\n",
    "plot_confusion_matrix(cm, figsize=(5,5))"
   ]
  },
  {
   "cell_type": "markdown",
   "id": "d182b050-699d-4e92-9585-a8d710152a92",
   "metadata": {},
   "source": [
    "## Extraindo Intenção Completa "
   ]
  },
  {
   "cell_type": "code",
   "execution_count": 21,
   "id": "6904ccd8-361e-4d50-b9ca-bc85a4646d78",
   "metadata": {},
   "outputs": [],
   "source": [
    "import re\n",
    "# Funções regex\n",
    "def extrair_valor(texto):\n",
    "    match = re.search(r'R\\$\\s?([\\d\\.,]+)', texto)\n",
    "    if match:\n",
    "        valor = match.group(1).replace('.', '').replace(',', '.')\n",
    "        return float(valor)\n",
    "    return None\n",
    "\n",
    "def extrair_parcelas(texto):\n",
    "    match = re.search(r'(\\d+)[xX]', texto)\n",
    "    if match:\n",
    "        return int(match.group(1))\n",
    "    return None\n"
   ]
  },
  {
   "cell_type": "code",
   "execution_count": 22,
   "id": "423ed96b-ed08-467c-a7fc-5926bc906a84",
   "metadata": {},
   "outputs": [
    {
     "name": "stdout",
     "output_type": "stream",
     "text": [
      "                       texto     classe_pred  probabilidade classe_pred_lemm  \\\n",
      "0         Pagar conta de luz       Pagamento       0.965173            Outro   \n",
      "1              Trasferir R$5           Outro       0.878927            Outro   \n",
      "2          Informe meu saldo  Consulta Saldo       0.999966            Outro   \n",
      "3            Cobra dez reais        Cobrança       0.903256            Outro   \n",
      "4        me diga o meu saldo  Consulta Saldo       0.999966            Outro   \n",
      "5  passe um valor de R$50,00        Cobrança       0.999962            Outro   \n",
      "6          transfirir R$3,99           Outro       0.878927            Outro   \n",
      "\n",
      "   probabilidade_lemm  valor  \n",
      "0            0.995803    NaN  \n",
      "1            0.995803   5.00  \n",
      "2            0.995803    NaN  \n",
      "3            0.995803    NaN  \n",
      "4            0.995803    NaN  \n",
      "5            0.995803  50.00  \n",
      "6            0.995803   3.99  \n"
     ]
    }
   ],
   "source": [
    "dfSample[\"valor\"] = dfSample[\"texto\"].apply(\n",
    "    lambda x: extrair_valor(x)\n",
    ")\n",
    "\n",
    "print(dfSample)"
   ]
  }
 ],
 "metadata": {
  "kernelspec": {
   "display_name": "Python 3 (ipykernel)",
   "language": "python",
   "name": "python3"
  },
  "language_info": {
   "codemirror_mode": {
    "name": "ipython",
    "version": 3
   },
   "file_extension": ".py",
   "mimetype": "text/x-python",
   "name": "python",
   "nbconvert_exporter": "python",
   "pygments_lexer": "ipython3",
   "version": "3.11.6"
  }
 },
 "nbformat": 4,
 "nbformat_minor": 5
}
