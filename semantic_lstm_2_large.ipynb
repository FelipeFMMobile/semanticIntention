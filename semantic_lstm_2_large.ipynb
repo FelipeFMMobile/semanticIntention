{
 "cells": [
  {
   "cell_type": "markdown",
   "id": "4a9a9ce5-764a-4eda-ae02-ec066b13e1af",
   "metadata": {},
   "source": [
    "## Classificador de Intenções LSTM "
   ]
  },
  {
   "cell_type": "markdown",
   "id": "e5f0ed8e-8c56-4f45-8ee0-31be121faf2f",
   "metadata": {},
   "source": [
    "### Large LSTM \n",
    "\n",
    "* Categorical label"
   ]
  },
  {
   "cell_type": "code",
   "execution_count": 1,
   "id": "086e03d8-f5a0-4293-a585-d7cd209e23f9",
   "metadata": {},
   "outputs": [],
   "source": [
    "\n",
    "import pandas as pd\n",
    "import numpy as np\n",
    "\n",
    "from tensorflow.keras.models import Sequential\n",
    "from tensorflow.keras.layers import Embedding, Bidirectional, LSTM, Dropout, Dense\n",
    "from tensorflow.keras.preprocessing.text import Tokenizer\n",
    "from tensorflow.keras.preprocessing.sequence import pad_sequences\n",
    "from sklearn.model_selection import train_test_split\n",
    "from sklearn.preprocessing import LabelEncoder\n",
    "from sklearn.utils.class_weight import compute_class_weight"
   ]
  },
  {
   "cell_type": "code",
   "execution_count": 2,
   "id": "9a34734d-ac11-43ef-aae1-7d3b12fbeed2",
   "metadata": {},
   "outputs": [
    {
     "data": {
      "text/html": [
       "<div>\n",
       "<style scoped>\n",
       "    .dataframe tbody tr th:only-of-type {\n",
       "        vertical-align: middle;\n",
       "    }\n",
       "\n",
       "    .dataframe tbody tr th {\n",
       "        vertical-align: top;\n",
       "    }\n",
       "\n",
       "    .dataframe thead th {\n",
       "        text-align: right;\n",
       "    }\n",
       "</style>\n",
       "<table border=\"1\" class=\"dataframe\">\n",
       "  <thead>\n",
       "    <tr style=\"text-align: right;\">\n",
       "      <th></th>\n",
       "      <th>texto</th>\n",
       "      <th>classe</th>\n",
       "    </tr>\n",
       "  </thead>\n",
       "  <tbody>\n",
       "    <tr>\n",
       "      <th>0</th>\n",
       "      <td>Lançar cobrança para João no valor de R$ 3399,97</td>\n",
       "      <td>Cobrança</td>\n",
       "    </tr>\n",
       "    <tr>\n",
       "      <th>1</th>\n",
       "      <td>Gerar cobrança automática de R$ 3108</td>\n",
       "      <td>Cobrança</td>\n",
       "    </tr>\n",
       "    <tr>\n",
       "      <th>2</th>\n",
       "      <td>Cobrar R$ 4554 à vista amanhã</td>\n",
       "      <td>Cobrança</td>\n",
       "    </tr>\n",
       "    <tr>\n",
       "      <th>3</th>\n",
       "      <td>Passe a cobrança de R$ 9,50 para o cliente</td>\n",
       "      <td>Cobrança</td>\n",
       "    </tr>\n",
       "    <tr>\n",
       "      <th>4</th>\n",
       "      <td>Cobrar R$ 541 à vista amanhã</td>\n",
       "      <td>Cobrança</td>\n",
       "    </tr>\n",
       "  </tbody>\n",
       "</table>\n",
       "</div>"
      ],
      "text/plain": [
       "                                              texto    classe\n",
       "0  Lançar cobrança para João no valor de R$ 3399,97  Cobrança\n",
       "1              Gerar cobrança automática de R$ 3108  Cobrança\n",
       "2                     Cobrar R$ 4554 à vista amanhã  Cobrança\n",
       "3        Passe a cobrança de R$ 9,50 para o cliente  Cobrança\n",
       "4                      Cobrar R$ 541 à vista amanhã  Cobrança"
      ]
     },
     "execution_count": 2,
     "metadata": {},
     "output_type": "execute_result"
    }
   ],
   "source": [
    "# ===== Dataset sintético =====\n",
    "\n",
    "df = pd.read_csv('dataset_bancario_expandido.csv')\n",
    "df.rename(columns={\"frase\": \"texto\", \"label\": \"classe\"}, inplace=True)\n",
    "df.head()\n"
   ]
  },
  {
   "cell_type": "code",
   "execution_count": 3,
   "id": "6bc9b57b-d6fc-4f12-84d7-d28d3f24041f",
   "metadata": {},
   "outputs": [
    {
     "data": {
      "text/plain": [
       "(2000, 2)"
      ]
     },
     "execution_count": 3,
     "metadata": {},
     "output_type": "execute_result"
    }
   ],
   "source": [
    "df.shape"
   ]
  },
  {
   "cell_type": "code",
   "execution_count": 4,
   "id": "5f309194-aee3-4385-bae7-b11d442164ff",
   "metadata": {},
   "outputs": [
    {
     "data": {
      "text/html": [
       "<div>\n",
       "<style scoped>\n",
       "    .dataframe tbody tr th:only-of-type {\n",
       "        vertical-align: middle;\n",
       "    }\n",
       "\n",
       "    .dataframe tbody tr th {\n",
       "        vertical-align: top;\n",
       "    }\n",
       "\n",
       "    .dataframe thead th {\n",
       "        text-align: right;\n",
       "    }\n",
       "</style>\n",
       "<table border=\"1\" class=\"dataframe\">\n",
       "  <thead>\n",
       "    <tr style=\"text-align: right;\">\n",
       "      <th></th>\n",
       "      <th>texto</th>\n",
       "      <th>classe</th>\n",
       "      <th>label</th>\n",
       "    </tr>\n",
       "  </thead>\n",
       "  <tbody>\n",
       "    <tr>\n",
       "      <th>0</th>\n",
       "      <td>Lançar cobrança para João no valor de R$ 3399,97</td>\n",
       "      <td>Cobrança</td>\n",
       "      <td>0</td>\n",
       "    </tr>\n",
       "    <tr>\n",
       "      <th>1</th>\n",
       "      <td>Gerar cobrança automática de R$ 3108</td>\n",
       "      <td>Cobrança</td>\n",
       "      <td>0</td>\n",
       "    </tr>\n",
       "    <tr>\n",
       "      <th>2</th>\n",
       "      <td>Cobrar R$ 4554 à vista amanhã</td>\n",
       "      <td>Cobrança</td>\n",
       "      <td>0</td>\n",
       "    </tr>\n",
       "    <tr>\n",
       "      <th>3</th>\n",
       "      <td>Passe a cobrança de R$ 9,50 para o cliente</td>\n",
       "      <td>Cobrança</td>\n",
       "      <td>0</td>\n",
       "    </tr>\n",
       "    <tr>\n",
       "      <th>4</th>\n",
       "      <td>Cobrar R$ 541 à vista amanhã</td>\n",
       "      <td>Cobrança</td>\n",
       "      <td>0</td>\n",
       "    </tr>\n",
       "  </tbody>\n",
       "</table>\n",
       "</div>"
      ],
      "text/plain": [
       "                                              texto    classe  label\n",
       "0  Lançar cobrança para João no valor de R$ 3399,97  Cobrança      0\n",
       "1              Gerar cobrança automática de R$ 3108  Cobrança      0\n",
       "2                     Cobrar R$ 4554 à vista amanhã  Cobrança      0\n",
       "3        Passe a cobrança de R$ 9,50 para o cliente  Cobrança      0\n",
       "4                      Cobrar R$ 541 à vista amanhã  Cobrança      0"
      ]
     },
     "execution_count": 4,
     "metadata": {},
     "output_type": "execute_result"
    }
   ],
   "source": [
    "# Codificação das labels\n",
    "label_encoder = LabelEncoder()\n",
    "df[\"label\"] = label_encoder.fit_transform(df[\"classe\"])\n",
    "df.head()"
   ]
  },
  {
   "cell_type": "markdown",
   "id": "d31e2a0d-a67b-4b23-b99a-a047493862ab",
   "metadata": {},
   "source": [
    "## Stemming"
   ]
  },
  {
   "cell_type": "code",
   "execution_count": 5,
   "id": "c8df9e63-8137-4e75-8238-910240ec21b5",
   "metadata": {},
   "outputs": [
    {
     "name": "stderr",
     "output_type": "stream",
     "text": [
      "[nltk_data] Downloading package rslp to\n",
      "[nltk_data]     /Users/felipemenezes/nltk_data...\n",
      "[nltk_data]   Package rslp is already up-to-date!\n",
      "[nltk_data] Downloading package stopwords to\n",
      "[nltk_data]     /Users/felipemenezes/nltk_data...\n",
      "[nltk_data]   Package stopwords is already up-to-date!\n"
     ]
    }
   ],
   "source": [
    "import nltk\n",
    "import spacy\n",
    "from nltk.tokenize import word_tokenize\n",
    "from nltk import pos_tag\n",
    "from nltk.corpus import stopwords\n",
    "from collections import defaultdict\n",
    "from nltk.corpus import wordnet as wn\n",
    "from tensorflow.keras.preprocessing.text import one_hot\n",
    "from nltk.stem import RSLPStemmer\n",
    "\n",
    "\n",
    "nltk.download('rslp')\n",
    "nltk.download('stopwords')\n",
    "\n",
    "#print(train_data)\n",
    "# StopWords\n",
    "stopwords_pt = set(stopwords.words('portuguese'))\n",
    "\n",
    "stemmer = RSLPStemmer()\n",
    "\n",
    "# to lower case\n",
    "df['texto_tratado'] = df['texto'].str.lower()\n",
    "\n",
    "for index, entry in enumerate(df['texto_tratado']):\n",
    "    tokens = nltk.word_tokenize(entry, language='portuguese') \n",
    "    #print(tagged)\n",
    "    final_words = []\n",
    "    # Tagging is extra processing with no effect in results\n",
    "    for word in tokens:\n",
    "        if word not in stopwords_pt and word.isalpha():\n",
    "            final_words.append(stemmer.stem(word))\n",
    "\n",
    "    df.loc[index, 'texto_final_stem'] = ' '.join(final_words)\n"
   ]
  },
  {
   "cell_type": "code",
   "execution_count": 6,
   "id": "5116018f-9961-4507-b578-a4738f3abd82",
   "metadata": {},
   "outputs": [
    {
     "data": {
      "text/html": [
       "<div>\n",
       "<style scoped>\n",
       "    .dataframe tbody tr th:only-of-type {\n",
       "        vertical-align: middle;\n",
       "    }\n",
       "\n",
       "    .dataframe tbody tr th {\n",
       "        vertical-align: top;\n",
       "    }\n",
       "\n",
       "    .dataframe thead th {\n",
       "        text-align: right;\n",
       "    }\n",
       "</style>\n",
       "<table border=\"1\" class=\"dataframe\">\n",
       "  <thead>\n",
       "    <tr style=\"text-align: right;\">\n",
       "      <th></th>\n",
       "      <th>texto</th>\n",
       "      <th>classe</th>\n",
       "      <th>label</th>\n",
       "      <th>texto_tratado</th>\n",
       "      <th>texto_final_stem</th>\n",
       "    </tr>\n",
       "  </thead>\n",
       "  <tbody>\n",
       "    <tr>\n",
       "      <th>1000</th>\n",
       "      <td>Verificar saldo em conta conjunta</td>\n",
       "      <td>Consulta Saldo</td>\n",
       "      <td>1</td>\n",
       "      <td>verificar saldo em conta conjunta</td>\n",
       "      <td>verific sald cont conjunt</td>\n",
       "    </tr>\n",
       "    <tr>\n",
       "      <th>1001</th>\n",
       "      <td>Consultar saldo atualizado</td>\n",
       "      <td>Consulta Saldo</td>\n",
       "      <td>1</td>\n",
       "      <td>consultar saldo atualizado</td>\n",
       "      <td>consult sald atual</td>\n",
       "    </tr>\n",
       "    <tr>\n",
       "      <th>1002</th>\n",
       "      <td>Consultar saldo atualizado</td>\n",
       "      <td>Consulta Saldo</td>\n",
       "      <td>1</td>\n",
       "      <td>consultar saldo atualizado</td>\n",
       "      <td>consult sald atual</td>\n",
       "    </tr>\n",
       "    <tr>\n",
       "      <th>1003</th>\n",
       "      <td>Consultar quanto tenho no banco</td>\n",
       "      <td>Consulta Saldo</td>\n",
       "      <td>1</td>\n",
       "      <td>consultar quanto tenho no banco</td>\n",
       "      <td>consult quant banc</td>\n",
       "    </tr>\n",
       "    <tr>\n",
       "      <th>1004</th>\n",
       "      <td>Mostrar saldo bancário</td>\n",
       "      <td>Consulta Saldo</td>\n",
       "      <td>1</td>\n",
       "      <td>mostrar saldo bancário</td>\n",
       "      <td>mostr sald banc</td>\n",
       "    </tr>\n",
       "  </tbody>\n",
       "</table>\n",
       "</div>"
      ],
      "text/plain": [
       "                                  texto          classe  label  \\\n",
       "1000  Verificar saldo em conta conjunta  Consulta Saldo      1   \n",
       "1001         Consultar saldo atualizado  Consulta Saldo      1   \n",
       "1002         Consultar saldo atualizado  Consulta Saldo      1   \n",
       "1003    Consultar quanto tenho no banco  Consulta Saldo      1   \n",
       "1004             Mostrar saldo bancário  Consulta Saldo      1   \n",
       "\n",
       "                          texto_tratado           texto_final_stem  \n",
       "1000  verificar saldo em conta conjunta  verific sald cont conjunt  \n",
       "1001         consultar saldo atualizado         consult sald atual  \n",
       "1002         consultar saldo atualizado         consult sald atual  \n",
       "1003    consultar quanto tenho no banco         consult quant banc  \n",
       "1004             mostrar saldo bancário            mostr sald banc  "
      ]
     },
     "execution_count": 6,
     "metadata": {},
     "output_type": "execute_result"
    }
   ],
   "source": [
    "df[df['label'] == 1].head()"
   ]
  },
  {
   "cell_type": "code",
   "execution_count": 7,
   "id": "4e18301a-b22f-4f87-8d3c-81651ae5673e",
   "metadata": {},
   "outputs": [
    {
     "data": {
      "text/html": [
       "<div>\n",
       "<style scoped>\n",
       "    .dataframe tbody tr th:only-of-type {\n",
       "        vertical-align: middle;\n",
       "    }\n",
       "\n",
       "    .dataframe tbody tr th {\n",
       "        vertical-align: top;\n",
       "    }\n",
       "\n",
       "    .dataframe thead th {\n",
       "        text-align: right;\n",
       "    }\n",
       "</style>\n",
       "<table border=\"1\" class=\"dataframe\">\n",
       "  <thead>\n",
       "    <tr style=\"text-align: right;\">\n",
       "      <th></th>\n",
       "      <th>texto</th>\n",
       "      <th>classe</th>\n",
       "      <th>label</th>\n",
       "      <th>texto_tratado</th>\n",
       "      <th>texto_final_stem</th>\n",
       "    </tr>\n",
       "  </thead>\n",
       "  <tbody>\n",
       "    <tr>\n",
       "      <th>500</th>\n",
       "      <td>Pagar boleto no valor de R$ 449,52</td>\n",
       "      <td>Pagamento</td>\n",
       "      <td>3</td>\n",
       "      <td>pagar boleto no valor de r$ 449,52</td>\n",
       "      <td>pag bolet val r</td>\n",
       "    </tr>\n",
       "    <tr>\n",
       "      <th>501</th>\n",
       "      <td>Transferir R$ 3953,23 para a conta poupança</td>\n",
       "      <td>Pagamento</td>\n",
       "      <td>3</td>\n",
       "      <td>transferir r$ 3953,23 para a conta poupança</td>\n",
       "      <td>transfer r cont poupanç</td>\n",
       "    </tr>\n",
       "    <tr>\n",
       "      <th>502</th>\n",
       "      <td>Transferir R$ 1308,25 para Maria</td>\n",
       "      <td>Pagamento</td>\n",
       "      <td>3</td>\n",
       "      <td>transferir r$ 1308,25 para maria</td>\n",
       "      <td>transfer r mar</td>\n",
       "    </tr>\n",
       "    <tr>\n",
       "      <th>503</th>\n",
       "      <td>Realizar transferência de R$ 4727 para Pedro</td>\n",
       "      <td>Pagamento</td>\n",
       "      <td>3</td>\n",
       "      <td>realizar transferência de r$ 4727 para pedro</td>\n",
       "      <td>realiz transfer r pedr</td>\n",
       "    </tr>\n",
       "    <tr>\n",
       "      <th>504</th>\n",
       "      <td>Efetuar o pagamento da assinatura de R$ 4265,23</td>\n",
       "      <td>Pagamento</td>\n",
       "      <td>3</td>\n",
       "      <td>efetuar o pagamento da assinatura de r$ 4265,23</td>\n",
       "      <td>efetu pag assinat r</td>\n",
       "    </tr>\n",
       "  </tbody>\n",
       "</table>\n",
       "</div>"
      ],
      "text/plain": [
       "                                               texto     classe  label  \\\n",
       "500               Pagar boleto no valor de R$ 449,52  Pagamento      3   \n",
       "501      Transferir R$ 3953,23 para a conta poupança  Pagamento      3   \n",
       "502                 Transferir R$ 1308,25 para Maria  Pagamento      3   \n",
       "503     Realizar transferência de R$ 4727 para Pedro  Pagamento      3   \n",
       "504  Efetuar o pagamento da assinatura de R$ 4265,23  Pagamento      3   \n",
       "\n",
       "                                       texto_tratado         texto_final_stem  \n",
       "500               pagar boleto no valor de r$ 449,52          pag bolet val r  \n",
       "501      transferir r$ 3953,23 para a conta poupança  transfer r cont poupanç  \n",
       "502                 transferir r$ 1308,25 para maria           transfer r mar  \n",
       "503     realizar transferência de r$ 4727 para pedro   realiz transfer r pedr  \n",
       "504  efetuar o pagamento da assinatura de r$ 4265,23      efetu pag assinat r  "
      ]
     },
     "execution_count": 7,
     "metadata": {},
     "output_type": "execute_result"
    }
   ],
   "source": [
    "df[df['label'] == 3].head()"
   ]
  },
  {
   "cell_type": "code",
   "execution_count": 8,
   "id": "1db155f8-b893-4174-839f-f8ade0afa18f",
   "metadata": {},
   "outputs": [
    {
     "data": {
      "text/html": [
       "<div>\n",
       "<style scoped>\n",
       "    .dataframe tbody tr th:only-of-type {\n",
       "        vertical-align: middle;\n",
       "    }\n",
       "\n",
       "    .dataframe tbody tr th {\n",
       "        vertical-align: top;\n",
       "    }\n",
       "\n",
       "    .dataframe thead th {\n",
       "        text-align: right;\n",
       "    }\n",
       "</style>\n",
       "<table border=\"1\" class=\"dataframe\">\n",
       "  <thead>\n",
       "    <tr style=\"text-align: right;\">\n",
       "      <th></th>\n",
       "      <th>texto</th>\n",
       "      <th>classe</th>\n",
       "      <th>label</th>\n",
       "      <th>texto_tratado</th>\n",
       "      <th>texto_final_stem</th>\n",
       "    </tr>\n",
       "  </thead>\n",
       "  <tbody>\n",
       "    <tr>\n",
       "      <th>0</th>\n",
       "      <td>Lançar cobrança para João no valor de R$ 3399,97</td>\n",
       "      <td>Cobrança</td>\n",
       "      <td>0</td>\n",
       "      <td>lançar cobrança para joão no valor de r$ 3399,97</td>\n",
       "      <td>lanç cobranç joã val r</td>\n",
       "    </tr>\n",
       "    <tr>\n",
       "      <th>1</th>\n",
       "      <td>Gerar cobrança automática de R$ 3108</td>\n",
       "      <td>Cobrança</td>\n",
       "      <td>0</td>\n",
       "      <td>gerar cobrança automática de r$ 3108</td>\n",
       "      <td>ger cobranç automá r</td>\n",
       "    </tr>\n",
       "    <tr>\n",
       "      <th>2</th>\n",
       "      <td>Cobrar R$ 4554 à vista amanhã</td>\n",
       "      <td>Cobrança</td>\n",
       "      <td>0</td>\n",
       "      <td>cobrar r$ 4554 à vista amanhã</td>\n",
       "      <td>cobr r vist amanhã</td>\n",
       "    </tr>\n",
       "    <tr>\n",
       "      <th>3</th>\n",
       "      <td>Passe a cobrança de R$ 9,50 para o cliente</td>\n",
       "      <td>Cobrança</td>\n",
       "      <td>0</td>\n",
       "      <td>passe a cobrança de r$ 9,50 para o cliente</td>\n",
       "      <td>pass cobranç r client</td>\n",
       "    </tr>\n",
       "    <tr>\n",
       "      <th>4</th>\n",
       "      <td>Cobrar R$ 541 à vista amanhã</td>\n",
       "      <td>Cobrança</td>\n",
       "      <td>0</td>\n",
       "      <td>cobrar r$ 541 à vista amanhã</td>\n",
       "      <td>cobr r vist amanhã</td>\n",
       "    </tr>\n",
       "  </tbody>\n",
       "</table>\n",
       "</div>"
      ],
      "text/plain": [
       "                                              texto    classe  label  \\\n",
       "0  Lançar cobrança para João no valor de R$ 3399,97  Cobrança      0   \n",
       "1              Gerar cobrança automática de R$ 3108  Cobrança      0   \n",
       "2                     Cobrar R$ 4554 à vista amanhã  Cobrança      0   \n",
       "3        Passe a cobrança de R$ 9,50 para o cliente  Cobrança      0   \n",
       "4                      Cobrar R$ 541 à vista amanhã  Cobrança      0   \n",
       "\n",
       "                                      texto_tratado        texto_final_stem  \n",
       "0  lançar cobrança para joão no valor de r$ 3399,97  lanç cobranç joã val r  \n",
       "1              gerar cobrança automática de r$ 3108    ger cobranç automá r  \n",
       "2                     cobrar r$ 4554 à vista amanhã      cobr r vist amanhã  \n",
       "3        passe a cobrança de r$ 9,50 para o cliente   pass cobranç r client  \n",
       "4                      cobrar r$ 541 à vista amanhã      cobr r vist amanhã  "
      ]
     },
     "execution_count": 8,
     "metadata": {},
     "output_type": "execute_result"
    }
   ],
   "source": [
    "df[df['label'] == 0].head()"
   ]
  },
  {
   "cell_type": "code",
   "execution_count": 9,
   "id": "e3a0611c-8592-412e-819c-348f2a685268",
   "metadata": {},
   "outputs": [
    {
     "data": {
      "text/html": [
       "<div>\n",
       "<style scoped>\n",
       "    .dataframe tbody tr th:only-of-type {\n",
       "        vertical-align: middle;\n",
       "    }\n",
       "\n",
       "    .dataframe tbody tr th {\n",
       "        vertical-align: top;\n",
       "    }\n",
       "\n",
       "    .dataframe thead th {\n",
       "        text-align: right;\n",
       "    }\n",
       "</style>\n",
       "<table border=\"1\" class=\"dataframe\">\n",
       "  <thead>\n",
       "    <tr style=\"text-align: right;\">\n",
       "      <th></th>\n",
       "      <th>texto</th>\n",
       "      <th>classe</th>\n",
       "      <th>label</th>\n",
       "      <th>texto_tratado</th>\n",
       "      <th>texto_final_stem</th>\n",
       "    </tr>\n",
       "  </thead>\n",
       "  <tbody>\n",
       "    <tr>\n",
       "      <th>1500</th>\n",
       "      <td>Solicitar orçamento de compra</td>\n",
       "      <td>Outro</td>\n",
       "      <td>2</td>\n",
       "      <td>solicitar orçamento de compra</td>\n",
       "      <td>solic orç compr</td>\n",
       "    </tr>\n",
       "    <tr>\n",
       "      <th>1501</th>\n",
       "      <td>Agendar revisão do carro</td>\n",
       "      <td>Outro</td>\n",
       "      <td>2</td>\n",
       "      <td>agendar revisão do carro</td>\n",
       "      <td>agend revis carr</td>\n",
       "    </tr>\n",
       "    <tr>\n",
       "      <th>1502</th>\n",
       "      <td>Organizar documentos do escritório</td>\n",
       "      <td>Outro</td>\n",
       "      <td>2</td>\n",
       "      <td>organizar documentos do escritório</td>\n",
       "      <td>organiz document escritóri</td>\n",
       "    </tr>\n",
       "    <tr>\n",
       "      <th>1503</th>\n",
       "      <td>Confirmar presença no evento</td>\n",
       "      <td>Outro</td>\n",
       "      <td>2</td>\n",
       "      <td>confirmar presença no evento</td>\n",
       "      <td>confirm presenç event</td>\n",
       "    </tr>\n",
       "    <tr>\n",
       "      <th>1504</th>\n",
       "      <td>Pedir orçamento para reforma</td>\n",
       "      <td>Outro</td>\n",
       "      <td>2</td>\n",
       "      <td>pedir orçamento para reforma</td>\n",
       "      <td>ped orç reform</td>\n",
       "    </tr>\n",
       "  </tbody>\n",
       "</table>\n",
       "</div>"
      ],
      "text/plain": [
       "                                   texto classe  label  \\\n",
       "1500       Solicitar orçamento de compra  Outro      2   \n",
       "1501            Agendar revisão do carro  Outro      2   \n",
       "1502  Organizar documentos do escritório  Outro      2   \n",
       "1503        Confirmar presença no evento  Outro      2   \n",
       "1504        Pedir orçamento para reforma  Outro      2   \n",
       "\n",
       "                           texto_tratado            texto_final_stem  \n",
       "1500       solicitar orçamento de compra             solic orç compr  \n",
       "1501            agendar revisão do carro            agend revis carr  \n",
       "1502  organizar documentos do escritório  organiz document escritóri  \n",
       "1503        confirmar presença no evento       confirm presenç event  \n",
       "1504        pedir orçamento para reforma              ped orç reform  "
      ]
     },
     "execution_count": 9,
     "metadata": {},
     "output_type": "execute_result"
    }
   ],
   "source": [
    "df[df['label'] == 2].head()"
   ]
  },
  {
   "cell_type": "code",
   "execution_count": 10,
   "id": "229c98bb-b42f-4b39-831e-954fb97928c4",
   "metadata": {},
   "outputs": [
    {
     "name": "stdout",
     "output_type": "stream",
     "text": [
      "(2000, 5)\n"
     ]
    },
    {
     "data": {
      "text/plain": [
       "(48, 5)"
      ]
     },
     "execution_count": 10,
     "metadata": {},
     "output_type": "execute_result"
    }
   ],
   "source": [
    "# Remove duplicates \n",
    "print(df.shape)\n",
    "df_stem = df.drop_duplicates(subset=['texto_final_stem'])\n",
    "df_stem.shape"
   ]
  },
  {
   "cell_type": "code",
   "execution_count": 11,
   "id": "48c8c3d7-cf94-419b-8b84-87f7b83bb890",
   "metadata": {},
   "outputs": [
    {
     "name": "stdout",
     "output_type": "stream",
     "text": [
      "(1400, 5)\n",
      "(1400, 4)\n"
     ]
    }
   ],
   "source": [
    "from tensorflow.keras.utils import to_categorical\n",
    "# ===== 2. Tokenização =====\n",
    "vocab_size = 5000\n",
    "tokenizer2 = Tokenizer(num_words=vocab_size, oov_token=\"<OOV>\")\n",
    "tokenizer2.fit_on_texts(df[\"texto_final_stem\"])\n",
    "sequences = tokenizer2.texts_to_sequences(df[\"texto_final_stem\"])\n",
    "max_len = int(np.percentile([len(s) for s in sequences], 95))\n",
    "X = pad_sequences(sequences, maxlen=max_len, padding='post')\n",
    "y = df[\"label\"].values\n",
    "#print(y)\n",
    "\n",
    "# Split treino/teste\n",
    "X_train, X_test, y_train, y_test = train_test_split(X, y, test_size=0.3, random_state=42)\n",
    "\n",
    "y_train_cat = to_categorical(y_train, num_classes=len(label_encoder.classes_))\n",
    "y_test_cat  = to_categorical(y_test, num_classes=len(label_encoder.classes_))\n",
    "\n",
    "print(X_train.shape)\n",
    "print(y_train_cat.shape)"
   ]
  },
  {
   "cell_type": "code",
   "execution_count": 12,
   "id": "cf882689-ea6b-4faf-8015-fb2b8c0970ec",
   "metadata": {},
   "outputs": [
    {
     "name": "stdout",
     "output_type": "stream",
     "text": [
      "(1400, 5)\n",
      "4\n",
      "(1400,)\n"
     ]
    },
    {
     "name": "stderr",
     "output_type": "stream",
     "text": [
      "/Users/felipemenezes/Codes/pythonEnvs/machine/lib/python3.11/site-packages/keras/src/layers/core/embedding.py:90: UserWarning: Argument `input_length` is deprecated. Just remove it.\n",
      "  warnings.warn(\n",
      "2025-09-02 20:45:47.357239: I metal_plugin/src/device/metal_device.cc:1154] Metal device set to: Apple M1 Pro\n",
      "2025-09-02 20:45:47.357267: I metal_plugin/src/device/metal_device.cc:296] systemMemory: 16.00 GB\n",
      "2025-09-02 20:45:47.357270: I metal_plugin/src/device/metal_device.cc:313] maxCacheSize: 5.33 GB\n",
      "WARNING: All log messages before absl::InitializeLog() is called are written to STDERR\n",
      "I0000 00:00:1756856747.357281 7329014 pluggable_device_factory.cc:305] Could not identify NUMA node of platform GPU ID 0, defaulting to 0. Your kernel may not have been built with NUMA support.\n",
      "I0000 00:00:1756856747.357301 7329014 pluggable_device_factory.cc:271] Created TensorFlow device (/job:localhost/replica:0/task:0/device:GPU:0 with 0 MB memory) -> physical PluggableDevice (device: 0, name: METAL, pci bus id: <undefined>)\n"
     ]
    },
    {
     "data": {
      "text/html": [
       "<pre style=\"white-space:pre;overflow-x:auto;line-height:normal;font-family:Menlo,'DejaVu Sans Mono',consolas,'Courier New',monospace\"><span style=\"font-weight: bold\">Model: \"sequential\"</span>\n",
       "</pre>\n"
      ],
      "text/plain": [
       "\u001b[1mModel: \"sequential\"\u001b[0m\n"
      ]
     },
     "metadata": {},
     "output_type": "display_data"
    },
    {
     "data": {
      "text/html": [
       "<pre style=\"white-space:pre;overflow-x:auto;line-height:normal;font-family:Menlo,'DejaVu Sans Mono',consolas,'Courier New',monospace\">┏━━━━━━━━━━━━━━━━━━━━━━━━━━━━━━━━━┳━━━━━━━━━━━━━━━━━━━━━━━━┳━━━━━━━━━━━━━━━┓\n",
       "┃<span style=\"font-weight: bold\"> Layer (type)                    </span>┃<span style=\"font-weight: bold\"> Output Shape           </span>┃<span style=\"font-weight: bold\">       Param # </span>┃\n",
       "┡━━━━━━━━━━━━━━━━━━━━━━━━━━━━━━━━━╇━━━━━━━━━━━━━━━━━━━━━━━━╇━━━━━━━━━━━━━━━┩\n",
       "│ embedding (<span style=\"color: #0087ff; text-decoration-color: #0087ff\">Embedding</span>)           │ (<span style=\"color: #00d7ff; text-decoration-color: #00d7ff\">None</span>, <span style=\"color: #00af00; text-decoration-color: #00af00\">4</span>, <span style=\"color: #00af00; text-decoration-color: #00af00\">40</span>)          │         <span style=\"color: #00af00; text-decoration-color: #00af00\">3,320</span> │\n",
       "├─────────────────────────────────┼────────────────────────┼───────────────┤\n",
       "│ bidirectional (<span style=\"color: #0087ff; text-decoration-color: #0087ff\">Bidirectional</span>)   │ (<span style=\"color: #00d7ff; text-decoration-color: #00d7ff\">None</span>, <span style=\"color: #00af00; text-decoration-color: #00af00\">4</span>, <span style=\"color: #00af00; text-decoration-color: #00af00\">128</span>)         │        <span style=\"color: #00af00; text-decoration-color: #00af00\">53,760</span> │\n",
       "├─────────────────────────────────┼────────────────────────┼───────────────┤\n",
       "│ dropout (<span style=\"color: #0087ff; text-decoration-color: #0087ff\">Dropout</span>)               │ (<span style=\"color: #00d7ff; text-decoration-color: #00d7ff\">None</span>, <span style=\"color: #00af00; text-decoration-color: #00af00\">4</span>, <span style=\"color: #00af00; text-decoration-color: #00af00\">128</span>)         │             <span style=\"color: #00af00; text-decoration-color: #00af00\">0</span> │\n",
       "├─────────────────────────────────┼────────────────────────┼───────────────┤\n",
       "│ lstm_1 (<span style=\"color: #0087ff; text-decoration-color: #0087ff\">LSTM</span>)                   │ (<span style=\"color: #00d7ff; text-decoration-color: #00d7ff\">None</span>, <span style=\"color: #00af00; text-decoration-color: #00af00\">64</span>)             │        <span style=\"color: #00af00; text-decoration-color: #00af00\">49,408</span> │\n",
       "├─────────────────────────────────┼────────────────────────┼───────────────┤\n",
       "│ dropout_1 (<span style=\"color: #0087ff; text-decoration-color: #0087ff\">Dropout</span>)             │ (<span style=\"color: #00d7ff; text-decoration-color: #00d7ff\">None</span>, <span style=\"color: #00af00; text-decoration-color: #00af00\">64</span>)             │             <span style=\"color: #00af00; text-decoration-color: #00af00\">0</span> │\n",
       "├─────────────────────────────────┼────────────────────────┼───────────────┤\n",
       "│ dense (<span style=\"color: #0087ff; text-decoration-color: #0087ff\">Dense</span>)                   │ (<span style=\"color: #00d7ff; text-decoration-color: #00d7ff\">None</span>, <span style=\"color: #00af00; text-decoration-color: #00af00\">50</span>)             │         <span style=\"color: #00af00; text-decoration-color: #00af00\">3,250</span> │\n",
       "├─────────────────────────────────┼────────────────────────┼───────────────┤\n",
       "│ dropout_2 (<span style=\"color: #0087ff; text-decoration-color: #0087ff\">Dropout</span>)             │ (<span style=\"color: #00d7ff; text-decoration-color: #00d7ff\">None</span>, <span style=\"color: #00af00; text-decoration-color: #00af00\">50</span>)             │             <span style=\"color: #00af00; text-decoration-color: #00af00\">0</span> │\n",
       "├─────────────────────────────────┼────────────────────────┼───────────────┤\n",
       "│ dense_1 (<span style=\"color: #0087ff; text-decoration-color: #0087ff\">Dense</span>)                 │ (<span style=\"color: #00d7ff; text-decoration-color: #00d7ff\">None</span>, <span style=\"color: #00af00; text-decoration-color: #00af00\">4</span>)              │           <span style=\"color: #00af00; text-decoration-color: #00af00\">204</span> │\n",
       "└─────────────────────────────────┴────────────────────────┴───────────────┘\n",
       "</pre>\n"
      ],
      "text/plain": [
       "┏━━━━━━━━━━━━━━━━━━━━━━━━━━━━━━━━━┳━━━━━━━━━━━━━━━━━━━━━━━━┳━━━━━━━━━━━━━━━┓\n",
       "┃\u001b[1m \u001b[0m\u001b[1mLayer (type)                   \u001b[0m\u001b[1m \u001b[0m┃\u001b[1m \u001b[0m\u001b[1mOutput Shape          \u001b[0m\u001b[1m \u001b[0m┃\u001b[1m \u001b[0m\u001b[1m      Param #\u001b[0m\u001b[1m \u001b[0m┃\n",
       "┡━━━━━━━━━━━━━━━━━━━━━━━━━━━━━━━━━╇━━━━━━━━━━━━━━━━━━━━━━━━╇━━━━━━━━━━━━━━━┩\n",
       "│ embedding (\u001b[38;5;33mEmbedding\u001b[0m)           │ (\u001b[38;5;45mNone\u001b[0m, \u001b[38;5;34m4\u001b[0m, \u001b[38;5;34m40\u001b[0m)          │         \u001b[38;5;34m3,320\u001b[0m │\n",
       "├─────────────────────────────────┼────────────────────────┼───────────────┤\n",
       "│ bidirectional (\u001b[38;5;33mBidirectional\u001b[0m)   │ (\u001b[38;5;45mNone\u001b[0m, \u001b[38;5;34m4\u001b[0m, \u001b[38;5;34m128\u001b[0m)         │        \u001b[38;5;34m53,760\u001b[0m │\n",
       "├─────────────────────────────────┼────────────────────────┼───────────────┤\n",
       "│ dropout (\u001b[38;5;33mDropout\u001b[0m)               │ (\u001b[38;5;45mNone\u001b[0m, \u001b[38;5;34m4\u001b[0m, \u001b[38;5;34m128\u001b[0m)         │             \u001b[38;5;34m0\u001b[0m │\n",
       "├─────────────────────────────────┼────────────────────────┼───────────────┤\n",
       "│ lstm_1 (\u001b[38;5;33mLSTM\u001b[0m)                   │ (\u001b[38;5;45mNone\u001b[0m, \u001b[38;5;34m64\u001b[0m)             │        \u001b[38;5;34m49,408\u001b[0m │\n",
       "├─────────────────────────────────┼────────────────────────┼───────────────┤\n",
       "│ dropout_1 (\u001b[38;5;33mDropout\u001b[0m)             │ (\u001b[38;5;45mNone\u001b[0m, \u001b[38;5;34m64\u001b[0m)             │             \u001b[38;5;34m0\u001b[0m │\n",
       "├─────────────────────────────────┼────────────────────────┼───────────────┤\n",
       "│ dense (\u001b[38;5;33mDense\u001b[0m)                   │ (\u001b[38;5;45mNone\u001b[0m, \u001b[38;5;34m50\u001b[0m)             │         \u001b[38;5;34m3,250\u001b[0m │\n",
       "├─────────────────────────────────┼────────────────────────┼───────────────┤\n",
       "│ dropout_2 (\u001b[38;5;33mDropout\u001b[0m)             │ (\u001b[38;5;45mNone\u001b[0m, \u001b[38;5;34m50\u001b[0m)             │             \u001b[38;5;34m0\u001b[0m │\n",
       "├─────────────────────────────────┼────────────────────────┼───────────────┤\n",
       "│ dense_1 (\u001b[38;5;33mDense\u001b[0m)                 │ (\u001b[38;5;45mNone\u001b[0m, \u001b[38;5;34m4\u001b[0m)              │           \u001b[38;5;34m204\u001b[0m │\n",
       "└─────────────────────────────────┴────────────────────────┴───────────────┘\n"
      ]
     },
     "metadata": {},
     "output_type": "display_data"
    },
    {
     "data": {
      "text/html": [
       "<pre style=\"white-space:pre;overflow-x:auto;line-height:normal;font-family:Menlo,'DejaVu Sans Mono',consolas,'Courier New',monospace\"><span style=\"font-weight: bold\"> Total params: </span><span style=\"color: #00af00; text-decoration-color: #00af00\">109,942</span> (429.46 KB)\n",
       "</pre>\n"
      ],
      "text/plain": [
       "\u001b[1m Total params: \u001b[0m\u001b[38;5;34m109,942\u001b[0m (429.46 KB)\n"
      ]
     },
     "metadata": {},
     "output_type": "display_data"
    },
    {
     "data": {
      "text/html": [
       "<pre style=\"white-space:pre;overflow-x:auto;line-height:normal;font-family:Menlo,'DejaVu Sans Mono',consolas,'Courier New',monospace\"><span style=\"font-weight: bold\"> Trainable params: </span><span style=\"color: #00af00; text-decoration-color: #00af00\">106,622</span> (416.49 KB)\n",
       "</pre>\n"
      ],
      "text/plain": [
       "\u001b[1m Trainable params: \u001b[0m\u001b[38;5;34m106,622\u001b[0m (416.49 KB)\n"
      ]
     },
     "metadata": {},
     "output_type": "display_data"
    },
    {
     "data": {
      "text/html": [
       "<pre style=\"white-space:pre;overflow-x:auto;line-height:normal;font-family:Menlo,'DejaVu Sans Mono',consolas,'Courier New',monospace\"><span style=\"font-weight: bold\"> Non-trainable params: </span><span style=\"color: #00af00; text-decoration-color: #00af00\">3,320</span> (12.97 KB)\n",
       "</pre>\n"
      ],
      "text/plain": [
       "\u001b[1m Non-trainable params: \u001b[0m\u001b[38;5;34m3,320\u001b[0m (12.97 KB)\n"
      ]
     },
     "metadata": {},
     "output_type": "display_data"
    },
    {
     "name": "stdout",
     "output_type": "stream",
     "text": [
      "None\n",
      "Epoch 1/15\n"
     ]
    },
    {
     "name": "stderr",
     "output_type": "stream",
     "text": [
      "2025-09-02 20:45:49.259348: I tensorflow/core/grappler/optimizers/custom_graph_optimizer_registry.cc:117] Plugin optimizer for device_type GPU is enabled.\n"
     ]
    },
    {
     "name": "stdout",
     "output_type": "stream",
     "text": [
      "\u001b[1m22/22\u001b[0m \u001b[32m━━━━━━━━━━━━━━━━━━━━\u001b[0m\u001b[37m\u001b[0m \u001b[1m15s\u001b[0m 372ms/step - acc: 0.2869 - loss: 1.3826 - val_acc: 0.5733 - val_loss: 1.3508\n",
      "Epoch 2/15\n",
      "\u001b[1m22/22\u001b[0m \u001b[32m━━━━━━━━━━━━━━━━━━━━\u001b[0m\u001b[37m\u001b[0m \u001b[1m6s\u001b[0m 291ms/step - acc: 0.5609 - loss: 1.2976 - val_acc: 0.6533 - val_loss: 0.9325\n",
      "Epoch 3/15\n",
      "\u001b[1m22/22\u001b[0m \u001b[32m━━━━━━━━━━━━━━━━━━━━\u001b[0m\u001b[37m\u001b[0m \u001b[1m6s\u001b[0m 292ms/step - acc: 0.6072 - loss: 0.8345 - val_acc: 0.8183 - val_loss: 0.5985\n",
      "Epoch 4/15\n",
      "\u001b[1m22/22\u001b[0m \u001b[32m━━━━━━━━━━━━━━━━━━━━\u001b[0m\u001b[37m\u001b[0m \u001b[1m7s\u001b[0m 297ms/step - acc: 0.7108 - loss: 0.5963 - val_acc: 0.8900 - val_loss: 0.3067\n",
      "Epoch 5/15\n",
      "\u001b[1m22/22\u001b[0m \u001b[32m━━━━━━━━━━━━━━━━━━━━\u001b[0m\u001b[37m\u001b[0m \u001b[1m6s\u001b[0m 293ms/step - acc: 0.9192 - loss: 0.2821 - val_acc: 0.9467 - val_loss: 0.1261\n",
      "Epoch 6/15\n",
      "\u001b[1m22/22\u001b[0m \u001b[32m━━━━━━━━━━━━━━━━━━━━\u001b[0m\u001b[37m\u001b[0m \u001b[1m6s\u001b[0m 287ms/step - acc: 0.9569 - loss: 0.1299 - val_acc: 1.0000 - val_loss: 0.0139\n",
      "Epoch 7/15\n",
      "\u001b[1m22/22\u001b[0m \u001b[32m━━━━━━━━━━━━━━━━━━━━\u001b[0m\u001b[37m\u001b[0m \u001b[1m7s\u001b[0m 300ms/step - acc: 0.9844 - loss: 0.0526 - val_acc: 1.0000 - val_loss: 0.0024\n",
      "Epoch 8/15\n",
      "\u001b[1m22/22\u001b[0m \u001b[32m━━━━━━━━━━━━━━━━━━━━\u001b[0m\u001b[37m\u001b[0m \u001b[1m6s\u001b[0m 288ms/step - acc: 0.9944 - loss: 0.0261 - val_acc: 1.0000 - val_loss: 0.0015\n",
      "Epoch 9/15\n",
      "\u001b[1m22/22\u001b[0m \u001b[32m━━━━━━━━━━━━━━━━━━━━\u001b[0m\u001b[37m\u001b[0m \u001b[1m6s\u001b[0m 289ms/step - acc: 0.9898 - loss: 0.0302 - val_acc: 1.0000 - val_loss: 6.4161e-04\n",
      "Epoch 10/15\n",
      "\u001b[1m22/22\u001b[0m \u001b[32m━━━━━━━━━━━━━━━━━━━━\u001b[0m\u001b[37m\u001b[0m \u001b[1m6s\u001b[0m 284ms/step - acc: 0.9893 - loss: 0.0256 - val_acc: 1.0000 - val_loss: 3.0610e-04\n",
      "Epoch 11/15\n",
      "\u001b[1m22/22\u001b[0m \u001b[32m━━━━━━━━━━━━━━━━━━━━\u001b[0m\u001b[37m\u001b[0m \u001b[1m6s\u001b[0m 289ms/step - acc: 0.9926 - loss: 0.0244 - val_acc: 1.0000 - val_loss: 5.2081e-04\n",
      "Epoch 12/15\n",
      "\u001b[1m22/22\u001b[0m \u001b[32m━━━━━━━━━━━━━━━━━━━━\u001b[0m\u001b[37m\u001b[0m \u001b[1m6s\u001b[0m 294ms/step - acc: 0.9933 - loss: 0.0183 - val_acc: 1.0000 - val_loss: 0.0011\n",
      "Epoch 13/15\n",
      "\u001b[1m22/22\u001b[0m \u001b[32m━━━━━━━━━━━━━━━━━━━━\u001b[0m\u001b[37m\u001b[0m \u001b[1m6s\u001b[0m 290ms/step - acc: 0.9884 - loss: 0.0496 - val_acc: 1.0000 - val_loss: 2.1295e-04\n",
      "Epoch 14/15\n",
      "\u001b[1m22/22\u001b[0m \u001b[32m━━━━━━━━━━━━━━━━━━━━\u001b[0m\u001b[37m\u001b[0m \u001b[1m6s\u001b[0m 290ms/step - acc: 0.9967 - loss: 0.0152 - val_acc: 1.0000 - val_loss: 1.4696e-04\n",
      "Epoch 15/15\n",
      "\u001b[1m22/22\u001b[0m \u001b[32m━━━━━━━━━━━━━━━━━━━━\u001b[0m\u001b[37m\u001b[0m \u001b[1m6s\u001b[0m 288ms/step - acc: 1.0000 - loss: 0.0048 - val_acc: 1.0000 - val_loss: 1.0433e-04\n"
     ]
    }
   ],
   "source": [
    "\n",
    "# ===== Modelo LSTM =====\n",
    "voc_size = len(tokenizer2.word_index) + 1\n",
    "embedding_vector_features = 40\n",
    "\n",
    "print(X_train.shape)\n",
    "print(len(label_encoder.classes_))\n",
    "print(y_train.shape)\n",
    "# From Medium\n",
    "\n",
    "model = Sequential()\n",
    "model.add(Embedding(voc_size, embedding_vector_features, trainable=False, input_length=X_train.shape[1]))\n",
    "model.add(Bidirectional(LSTM(64, return_sequences=True, recurrent_dropout=0.1, dropout=0.1), 'concat'))\n",
    "model.add(Dropout(0.3))\n",
    "model.add(LSTM(64, return_sequences=False, recurrent_dropout=0.1, dropout=0.1))\n",
    "model.add(Dropout(0.3))\n",
    "model.add(Dense(50, activation='relu'))\n",
    "model.add(Dropout(0.3))\n",
    "model.add(Dense(len(label_encoder.classes_), activation='softmax'))\n",
    "model.compile(loss='categorical_crossentropy', optimizer='adam', metrics=['acc'])\n",
    "\n",
    "model.build(input_shape=(None, len(label_encoder.classes_)))\n",
    "print(model.summary())\n",
    "\n",
    "# ===== Treino =====\n",
    "history = model.fit(\n",
    "    X_train, y_train_cat,\n",
    "    validation_data=(X_test, y_test_cat),\n",
    "    epochs=15,\n",
    "    batch_size=64,shuffle=True\n",
    ")"
   ]
  },
  {
   "cell_type": "code",
   "execution_count": 13,
   "id": "f50be48d-327c-4726-8cd1-da2985c5bcf1",
   "metadata": {},
   "outputs": [
    {
     "name": "stdout",
     "output_type": "stream",
     "text": [
      "<keras.src.callbacks.history.History object at 0x31fd641d0>\n",
      "The history saving thread hit an unexpected error (OperationalError('attempt to write a readonly database')).History will not be written to the database.\n"
     ]
    },
    {
     "data": {
      "image/png": "[encoded data removed]",
      "text/plain": [
       "<Figure size 640x480 with 1 Axes>"
      ]
     },
     "metadata": {},
     "output_type": "display_data"
    }
   ],
   "source": [
    "print(history)\n",
    "\n",
    "import matplotlib.pyplot as plt\n",
    "%matplotlib inline\n",
    "plt.plot(history.history['acc'])\n",
    "plt.plot(history.history['val_acc'])\n",
    "plt.title('Model Accuracy')\n",
    "plt.ylabel('Accuracy')\n",
    "plt.xlabel('Epoch')\n",
    "plt.legend(['Train', 'Validation'], loc='upper left')\n",
    "plt.show()"
   ]
  },
  {
   "cell_type": "code",
   "execution_count": 14,
   "id": "119e14f5-be21-42d6-961a-dad9cf236959",
   "metadata": {},
   "outputs": [
    {
     "name": "stdout",
     "output_type": "stream",
     "text": [
      "\u001b[1m19/19\u001b[0m \u001b[32m━━━━━━━━━━━━━━━━━━━━\u001b[0m\u001b[37m\u001b[0m \u001b[1m1s\u001b[0m 49ms/step - acc: 1.0000 - loss: 1.0472e-04\n",
      "\n",
      "Acurácia no teste: 1.0000\n"
     ]
    }
   ],
   "source": [
    "\n",
    "# ===== 7. Avaliação =====\n",
    "loss, acc = model.evaluate(X_test, y_test_cat)\n",
    "print(f\"\\nAcurácia no teste: {acc:.4f}\")\n"
   ]
  },
  {
   "cell_type": "code",
   "execution_count": 15,
   "id": "e7aca202-66c0-4685-92c0-5ed19164fe7a",
   "metadata": {},
   "outputs": [
    {
     "name": "stdout",
     "output_type": "stream",
     "text": [
      "['consult', 'sald']\n",
      "\u001b[1m1/1\u001b[0m \u001b[32m━━━━━━━━━━━━━━━━━━━━\u001b[0m\u001b[37m\u001b[0m \u001b[1m2s\u001b[0m 2s/step\n",
      "[2.7216982e-08 9.9987924e-01 1.2051841e-04 2.4123111e-07]\n",
      "0.99987924\n",
      "\n",
      "Frase: ['consulte', 'meu', 'saldo']\n",
      "Classe prevista: ['Consulta Saldo']\n",
      "Probabilidade: 0.99987924\n"
     ]
    }
   ],
   "source": [
    "# ===== 8. Testando previsão =====\n",
    "nova_frase = [\"consulte meu saldo\".lower()]\n",
    "nova_frase = [word_tokenize(entry, language='portuguese') for entry in nova_frase]\n",
    "\n",
    "final_words = []\n",
    "for word in nova_frase[0]:\n",
    "        if word not in stopwords_pt and word.isalpha():\n",
    "            final_words.append(stemmer.stem(word))\n",
    "\n",
    "print(final_words)\n",
    "\n",
    "seq = tokenizer2.texts_to_sequences([final_words])\n",
    "padded = pad_sequences(seq, maxlen=max_len, padding='post')\n",
    "\n",
    "# Faz predição\n",
    "pred = model.predict(padded)[0] \n",
    "\n",
    "print(pred)\n",
    "\n",
    "# Obtém índice da classe com maior probabilidade\n",
    "classe_idx = np.argmax(pred)\n",
    "prob = pred[classe_idx]\n",
    "\n",
    "print(prob)\n",
    "\n",
    "print(\"\\nFrase:\", nova_frase[0])\n",
    "print(\"Classe prevista:\", label_encoder.inverse_transform([classe_idx]))\n",
    "print(\"Probabilidade:\", prob)"
   ]
  },
  {
   "cell_type": "code",
   "execution_count": 16,
   "id": "e4374076-7982-4ae8-8416-66b0233d2fd1",
   "metadata": {},
   "outputs": [],
   "source": [
    "\n",
    "# ==== Dataset de teste ====\n",
    "dataset2 = [\n",
    "    (\"Pagar conta de luz\", None),\n",
    "    (\"Trasferir R$5\", None),\n",
    "    (\"Informe meu saldo\", None),\n",
    "    (\"Cobra dez reais\", None),\n",
    "    (\"me diga o meu saldo\", None),\n",
    "    (\"passe um valor de R$50,00\", None),\n",
    "    (\"transfirir R$3,99\", None)\n",
    "]\n",
    "dfSample = pd.DataFrame(dataset2, columns=[\"texto\", \"classe_pred\"])\n",
    "\n"
   ]
  },
  {
   "cell_type": "code",
   "execution_count": 17,
   "id": "9ad08097-e128-4739-8517-fde762e19587",
   "metadata": {},
   "outputs": [],
   "source": [
    "def prever_classe(texto):\n",
    "    frase_proc = word_tokenize(texto.lower(), language='portuguese')\n",
    "    \n",
    "    final_words = [\n",
    "        stemmer.stem(word) \n",
    "        for word in frase_proc \n",
    "        if word not in stopwords_pt and word.isalpha()\n",
    "    ]\n",
    "    \n",
    "    # Sequência → padding\n",
    "    seq = tokenizer2.texts_to_sequences([final_words])\n",
    "    padded = pad_sequences(seq, maxlen=max_len, padding='post')\n",
    "    \n",
    "    # Predição\n",
    "    pred = model.predict(padded, verbose=0)[0]\n",
    "    classe_idx = np.argmax(pred)\n",
    "    prob = pred[classe_idx]\n",
    "    classe = label_encoder.inverse_transform([classe_idx])[0]\n",
    "    return classe, prob\n"
   ]
  },
  {
   "cell_type": "code",
   "execution_count": 18,
   "id": "59cf2f3f-8895-4863-b9a6-a50d61d32037",
   "metadata": {},
   "outputs": [
    {
     "name": "stdout",
     "output_type": "stream",
     "text": [
      "                       texto     classe_pred  probabilidade\n",
      "0         Pagar conta de luz  Consulta Saldo       0.945090\n",
      "1              Trasferir R$5  Consulta Saldo       0.638415\n",
      "2          Informe meu saldo  Consulta Saldo       0.999885\n",
      "3            Cobra dez reais        Cobrança       0.980723\n",
      "4        me diga o meu saldo  Consulta Saldo       0.999885\n",
      "5  passe um valor de R$50,00        Cobrança       0.999993\n",
      "6          transfirir R$3,99  Consulta Saldo       0.638415\n"
     ]
    }
   ],
   "source": [
    "# ==== Preencher previsões ====\n",
    "dfSample[\"classe_pred\"] = dfSample[\"texto\"].apply(\n",
    "    lambda x: prever_classe(x)[0]\n",
    ")\n",
    "dfSample[\"probabilidade\"] = dfSample[\"texto\"].apply(\n",
    "    lambda x: prever_classe(x)[1]\n",
    ")\n",
    "\n",
    "print(dfSample)"
   ]
  },
  {
   "cell_type": "markdown",
   "id": "3450e527-a8d9-4a94-bdd0-37919881847f",
   "metadata": {},
   "source": [
    "## Confusion Matrix"
   ]
  },
  {
   "cell_type": "code",
   "execution_count": 19,
   "id": "9498fedd-1d43-4b52-b787-0c12f1e68bd8",
   "metadata": {},
   "outputs": [
    {
     "name": "stdout",
     "output_type": "stream",
     "text": [
      "\u001b[1m19/19\u001b[0m \u001b[32m━━━━━━━━━━━━━━━━━━━━\u001b[0m\u001b[37m\u001b[0m \u001b[1m1s\u001b[0m 47ms/step\n"
     ]
    }
   ],
   "source": [
    "y_pred1=np.argmax(model.predict(X_test), axis=-1)"
   ]
  },
  {
   "cell_type": "code",
   "execution_count": 20,
   "id": "9affbf7d-6d94-40d0-9a4b-065bca9aa519",
   "metadata": {},
   "outputs": [
    {
     "data": {
      "text/plain": [
       "1.0"
      ]
     },
     "execution_count": 20,
     "metadata": {},
     "output_type": "execute_result"
    }
   ],
   "source": [
    "from sklearn.metrics import accuracy_score\n",
    "accuracy_score(y_test,y_pred1)"
   ]
  },
  {
   "cell_type": "code",
   "execution_count": 21,
   "id": "899f974f-fb9a-4769-aab1-13aa844b31ff",
   "metadata": {},
   "outputs": [
    {
     "data": {
      "text/plain": [
       "(<Figure size 500x500 with 1 Axes>,\n",
       " <Axes: xlabel='predicted label', ylabel='true label'>)"
      ]
     },
     "execution_count": 21,
     "metadata": {},
     "output_type": "execute_result"
    },
    {
     "data": {
      "image/png": "[encoded data removed]",
      "text/plain": [
       "<Figure size 500x500 with 1 Axes>"
      ]
     },
     "metadata": {},
     "output_type": "display_data"
    }
   ],
   "source": [
    "from sklearn.metrics import confusion_matrix\n",
    "from mlxtend.plotting import plot_confusion_matrix\n",
    "\n",
    "cm= confusion_matrix(y_test,y_pred1)\n",
    "plot_confusion_matrix(cm, figsize=(5,5))"
   ]
  },
  {
   "cell_type": "code",
   "execution_count": 22,
   "id": "95d4fbd7-f0c3-4d41-b0b3-a1763a10949b",
   "metadata": {},
   "outputs": [
    {
     "name": "stdout",
     "output_type": "stream",
     "text": [
      "                precision    recall  f1-score   support\n",
      "\n",
      "      Cobrança       1.00      1.00      1.00       157\n",
      "Consulta Saldo       1.00      1.00      1.00       138\n",
      "         Outro       1.00      1.00      1.00       160\n",
      "     Pagamento       1.00      1.00      1.00       145\n",
      "\n",
      "      accuracy                           1.00       600\n",
      "     macro avg       1.00      1.00      1.00       600\n",
      "  weighted avg       1.00      1.00      1.00       600\n",
      "\n"
     ]
    }
   ],
   "source": [
    "from sklearn.metrics import classification_report, confusion_matrix\n",
    "print(classification_report(y_test, y_pred1, target_names=label_encoder.classes_))"
   ]
  },
  {
   "cell_type": "markdown",
   "id": "d182b050-699d-4e92-9585-a8d710152a92",
   "metadata": {},
   "source": [
    "## Extraindo Intenção Completa "
   ]
  },
  {
   "cell_type": "code",
   "execution_count": 23,
   "id": "6904ccd8-361e-4d50-b9ca-bc85a4646d78",
   "metadata": {},
   "outputs": [],
   "source": [
    "import re\n",
    "# Funções regex\n",
    "def extrair_valor(texto):\n",
    "    match = re.search(r'R\\$\\s?([\\d\\.,]+)', texto)\n",
    "    if match:\n",
    "        valor = match.group(1).replace('.', '').replace(',', '.')\n",
    "        return float(valor)\n",
    "    return None\n",
    "\n",
    "def extrair_parcelas(texto):\n",
    "    match = re.search(r'(\\d+)[xX]', texto)\n",
    "    if match:\n",
    "        return int(match.group(1))\n",
    "    return None\n"
   ]
  },
  {
   "cell_type": "code",
   "execution_count": 24,
   "id": "423ed96b-ed08-467c-a7fc-5926bc906a84",
   "metadata": {},
   "outputs": [
    {
     "name": "stdout",
     "output_type": "stream",
     "text": [
      "                       texto     classe_pred  probabilidade  valor\n",
      "0         Pagar conta de luz  Consulta Saldo       0.945090    NaN\n",
      "1              Trasferir R$5  Consulta Saldo       0.638415   5.00\n",
      "2          Informe meu saldo  Consulta Saldo       0.999885    NaN\n",
      "3            Cobra dez reais        Cobrança       0.980723    NaN\n",
      "4        me diga o meu saldo  Consulta Saldo       0.999885    NaN\n",
      "5  passe um valor de R$50,00        Cobrança       0.999993  50.00\n",
      "6          transfirir R$3,99  Consulta Saldo       0.638415   3.99\n"
     ]
    }
   ],
   "source": [
    "dfSample[\"valor\"] = dfSample[\"texto\"].apply(\n",
    "    lambda x: extrair_valor(x)\n",
    ")\n",
    "\n",
    "print(dfSample)"
   ]
  },
  {
   "cell_type": "markdown",
   "id": "58d3265e-765f-4e8a-9851-ca5eacbc13f5",
   "metadata": {},
   "source": [
    "## Save Model"
   ]
  },
  {
   "cell_type": "code",
   "execution_count": 25,
   "id": "e2a07f86-a33c-4462-81f4-03ae982e5dbb",
   "metadata": {},
   "outputs": [
    {
     "name": "stderr",
     "output_type": "stream",
     "text": [
      "WARNING:absl:You are saving your model as an HDF5 file via `model.save()` or `keras.saving.save_model(model)`. This file format is considered legacy. We recommend using instead the native Keras format, e.g. `model.save('my_model.keras')` or `keras.saving.save_model(model, 'my_model.keras')`. \n"
     ]
    }
   ],
   "source": [
    "model.save(\"sematica_lstm2.h5\")"
   ]
  }
 ],
 "metadata": {
  "kernelspec": {
   "display_name": "Python 3 (ipykernel)",
   "language": "python",
   "name": "python3"
  },
  "language_info": {
   "codemirror_mode": {
    "name": "ipython",
    "version": 3
   },
   "file_extension": ".py",
   "mimetype": "text/x-python",
   "name": "python",
   "nbconvert_exporter": "python",
   "pygments_lexer": "ipython3",
   "version": "3.11.6"
  }
 },
 "nbformat": 4,
 "nbformat_minor": 5
}
